{
 "cells": [
  {
   "cell_type": "markdown",
   "metadata": {},
   "source": [
    "## Imports"
   ]
  },
  {
   "cell_type": "code",
   "execution_count": 1,
   "metadata": {},
   "outputs": [],
   "source": [
    "import json\n",
    "import pandas as pd"
   ]
  },
  {
   "cell_type": "markdown",
   "metadata": {
    "vscode": {
     "languageId": "plaintext"
    }
   },
   "source": [
    "## Read Data"
   ]
  },
  {
   "cell_type": "code",
   "execution_count": 2,
   "metadata": {},
   "outputs": [],
   "source": [
    "def read_json_file(file_path):\n",
    "    \"\"\"\n",
    "    Reads JSON data from a file and returns it as a Python dictionary.\n",
    "\n",
    "    :param file_path: Path to the JSON file.\n",
    "    :return: Parsed JSON data as a dictionary or list.\n",
    "    \"\"\"\n",
    "    try:\n",
    "        with open(file_path, 'r', encoding='utf-8') as json_file:\n",
    "            data = json.load(json_file)\n",
    "            return data\n",
    "    except FileNotFoundError:\n",
    "        print(f\"Error: The file {file_path} was not found.\")\n",
    "    except json.JSONDecodeError:\n",
    "        print(f\"Error: The file {file_path} contains invalid JSON.\")\n",
    "    except Exception as e:\n",
    "        print(f\"An unexpected error occurred: {e}\")"
   ]
  },
  {
   "cell_type": "code",
   "execution_count": 3,
   "metadata": {},
   "outputs": [],
   "source": [
    "data = read_json_file(\"notebooks_summary.json\")"
   ]
  },
  {
   "cell_type": "code",
   "execution_count": 4,
   "metadata": {},
   "outputs": [],
   "source": []
  },
  {
   "cell_type": "code",
   "execution_count": null,
   "metadata": {},
   "outputs": [
    {
     "data": {
      "text/html": [
       "<div>\n",
       "<style scoped>\n",
       "    .dataframe tbody tr th:only-of-type {\n",
       "        vertical-align: middle;\n",
       "    }\n",
       "\n",
       "    .dataframe tbody tr th {\n",
       "        vertical-align: top;\n",
       "    }\n",
       "\n",
       "    .dataframe thead th {\n",
       "        text-align: right;\n",
       "    }\n",
       "</style>\n",
       "<table border=\"1\" class=\"dataframe\">\n",
       "  <thead>\n",
       "    <tr style=\"text-align: right;\">\n",
       "      <th></th>\n",
       "      <th>local_path</th>\n",
       "      <th>name</th>\n",
       "      <th>table_of_content</th>\n",
       "      <th>practice_exercises</th>\n",
       "      <th>github_link</th>\n",
       "    </tr>\n",
       "  </thead>\n",
       "  <tbody>\n",
       "    <tr>\n",
       "      <th>0</th>\n",
       "      <td>downloaded_files/Lectures/01 Introduction/01 E...</td>\n",
       "      <td>01 Early Programming</td>\n",
       "      <td></td>\n",
       "      <td>[]</td>\n",
       "      <td>https://github.com/pytopia/Python-Programming/...</td>\n",
       "    </tr>\n",
       "    <tr>\n",
       "      <th>1</th>\n",
       "      <td>downloaded_files/Lectures/01 Introduction/02 P...</td>\n",
       "      <td>02 Programming Languages</td>\n",
       "      <td>[The First Programming Languages, Types of Pro...</td>\n",
       "      <td>[]</td>\n",
       "      <td>https://github.com/pytopia/Python-Programming/...</td>\n",
       "    </tr>\n",
       "    <tr>\n",
       "      <th>2</th>\n",
       "      <td>downloaded_files/Lectures/01 Introduction/03 W...</td>\n",
       "      <td>03 Why Choose Python</td>\n",
       "      <td>[Python's Simplicity and Versatility, Strong C...</td>\n",
       "      <td>[]</td>\n",
       "      <td>https://github.com/pytopia/Python-Programming/...</td>\n",
       "    </tr>\n",
       "  </tbody>\n",
       "</table>\n",
       "</div>"
      ],
      "text/plain": [
       "                                          local_path  \\\n",
       "0  downloaded_files/Lectures/01 Introduction/01 E...   \n",
       "1  downloaded_files/Lectures/01 Introduction/02 P...   \n",
       "2  downloaded_files/Lectures/01 Introduction/03 W...   \n",
       "\n",
       "                       name  \\\n",
       "0      01 Early Programming   \n",
       "1  02 Programming Languages   \n",
       "2      03 Why Choose Python   \n",
       "\n",
       "                                    table_of_content practice_exercises  \\\n",
       "0                                                                    []   \n",
       "1  [The First Programming Languages, Types of Pro...                 []   \n",
       "2  [Python's Simplicity and Versatility, Strong C...                 []   \n",
       "\n",
       "                                         github_link  \n",
       "0  https://github.com/pytopia/Python-Programming/...  \n",
       "1  https://github.com/pytopia/Python-Programming/...  \n",
       "2  https://github.com/pytopia/Python-Programming/...  "
      ]
     },
     "execution_count": 5,
     "metadata": {},
     "output_type": "execute_result"
    }
   ],
   "source": [
    "df.head(3)"
   ]
  },
  {
   "cell_type": "code",
   "execution_count": 6,
   "metadata": {},
   "outputs": [],
   "source": [
    "df['table_of_content'] = df['table_of_content'].apply(lambda x: \" \".join(x))"
   ]
  },
  {
   "cell_type": "code",
   "execution_count": 7,
   "metadata": {},
   "outputs": [],
   "source": []
  },
  {
   "cell_type": "code",
   "execution_count": 8,
   "metadata": {},
   "outputs": [
    {
     "data": {
      "text/html": [
       "<div>\n",
       "<style scoped>\n",
       "    .dataframe tbody tr th:only-of-type {\n",
       "        vertical-align: middle;\n",
       "    }\n",
       "\n",
       "    .dataframe tbody tr th {\n",
       "        vertical-align: top;\n",
       "    }\n",
       "\n",
       "    .dataframe thead th {\n",
       "        text-align: right;\n",
       "    }\n",
       "</style>\n",
       "<table border=\"1\" class=\"dataframe\">\n",
       "  <thead>\n",
       "    <tr style=\"text-align: right;\">\n",
       "      <th></th>\n",
       "      <th>local_path</th>\n",
       "      <th>name</th>\n",
       "      <th>table_of_content</th>\n",
       "      <th>practice_exercises</th>\n",
       "      <th>github_link</th>\n",
       "    </tr>\n",
       "  </thead>\n",
       "  <tbody>\n",
       "    <tr>\n",
       "      <th>0</th>\n",
       "      <td>downloaded_files/Lectures/01 Introduction/01 E...</td>\n",
       "      <td>01 Early Programming</td>\n",
       "      <td></td>\n",
       "      <td></td>\n",
       "      <td>https://github.com/pytopia/Python-Programming/...</td>\n",
       "    </tr>\n",
       "    <tr>\n",
       "      <th>1</th>\n",
       "      <td>downloaded_files/Lectures/01 Introduction/02 P...</td>\n",
       "      <td>02 Programming Languages</td>\n",
       "      <td>The First Programming Languages Types of Progr...</td>\n",
       "      <td></td>\n",
       "      <td>https://github.com/pytopia/Python-Programming/...</td>\n",
       "    </tr>\n",
       "    <tr>\n",
       "      <th>2</th>\n",
       "      <td>downloaded_files/Lectures/01 Introduction/03 W...</td>\n",
       "      <td>03 Why Choose Python</td>\n",
       "      <td>Python's Simplicity and Versatility Strong Com...</td>\n",
       "      <td></td>\n",
       "      <td>https://github.com/pytopia/Python-Programming/...</td>\n",
       "    </tr>\n",
       "  </tbody>\n",
       "</table>\n",
       "</div>"
      ],
      "text/plain": [
       "                                          local_path  \\\n",
       "0  downloaded_files/Lectures/01 Introduction/01 E...   \n",
       "1  downloaded_files/Lectures/01 Introduction/02 P...   \n",
       "2  downloaded_files/Lectures/01 Introduction/03 W...   \n",
       "\n",
       "                       name  \\\n",
       "0      01 Early Programming   \n",
       "1  02 Programming Languages   \n",
       "2      03 Why Choose Python   \n",
       "\n",
       "                                    table_of_content practice_exercises  \\\n",
       "0                                                                         \n",
       "1  The First Programming Languages Types of Progr...                      \n",
       "2  Python's Simplicity and Versatility Strong Com...                      \n",
       "\n",
       "                                         github_link  \n",
       "0  https://github.com/pytopia/Python-Programming/...  \n",
       "1  https://github.com/pytopia/Python-Programming/...  \n",
       "2  https://github.com/pytopia/Python-Programming/...  "
      ]
     },
     "execution_count": 8,
     "metadata": {},
     "output_type": "execute_result"
    }
   ],
   "source": [
    "df.head(3)"
   ]
  },
  {
   "cell_type": "code",
   "execution_count": null,
   "metadata": {},
   "outputs": [],
   "source": []
  },
  {
   "cell_type": "markdown",
   "metadata": {},
   "source": [
    "## Embeddings"
   ]
  },
  {
   "cell_type": "code",
   "execution_count": 9,
   "metadata": {},
   "outputs": [],
   "source": [
    "# pip install openai==0.28"
   ]
  },
  {
   "cell_type": "code",
   "execution_count": 10,
   "metadata": {},
   "outputs": [],
   "source": [
    "# pip uninstall openai -y\n",
    "# pip install openai==0.28"
   ]
  },
  {
   "cell_type": "code",
   "execution_count": 11,
   "metadata": {},
   "outputs": [],
   "source": []
  },
  {
   "cell_type": "code",
   "execution_count": 12,
   "metadata": {},
   "outputs": [
    {
     "data": {
      "text/plain": [
       "True"
      ]
     },
     "execution_count": 12,
     "metadata": {},
     "output_type": "execute_result"
    }
   ],
   "source": []
  },
  {
   "cell_type": "code",
   "execution_count": 13,
   "metadata": {},
   "outputs": [],
   "source": []
  },
  {
   "cell_type": "code",
   "execution_count": 14,
   "metadata": {},
   "outputs": [],
   "source": []
  },
  {
   "cell_type": "code",
   "execution_count": 15,
   "metadata": {},
   "outputs": [
    {
     "data": {
      "text/html": [
       "<div>\n",
       "<style scoped>\n",
       "    .dataframe tbody tr th:only-of-type {\n",
       "        vertical-align: middle;\n",
       "    }\n",
       "\n",
       "    .dataframe tbody tr th {\n",
       "        vertical-align: top;\n",
       "    }\n",
       "\n",
       "    .dataframe thead th {\n",
       "        text-align: right;\n",
       "    }\n",
       "</style>\n",
       "<table border=\"1\" class=\"dataframe\">\n",
       "  <thead>\n",
       "    <tr style=\"text-align: right;\">\n",
       "      <th></th>\n",
       "      <th>local_path</th>\n",
       "      <th>name</th>\n",
       "      <th>table_of_content</th>\n",
       "      <th>practice_exercises</th>\n",
       "      <th>github_link</th>\n",
       "      <th>embeddings</th>\n",
       "    </tr>\n",
       "  </thead>\n",
       "  <tbody>\n",
       "    <tr>\n",
       "      <th>0</th>\n",
       "      <td>downloaded_files/Lectures/01 Introduction/01 E...</td>\n",
       "      <td>01 Early Programming</td>\n",
       "      <td></td>\n",
       "      <td></td>\n",
       "      <td>https://github.com/pytopia/Python-Programming/...</td>\n",
       "      <td>[0.001556192641146481, -0.016987796872854233, ...</td>\n",
       "    </tr>\n",
       "    <tr>\n",
       "      <th>1</th>\n",
       "      <td>downloaded_files/Lectures/01 Introduction/02 P...</td>\n",
       "      <td>02 Programming Languages</td>\n",
       "      <td>The First Programming Languages Types of Progr...</td>\n",
       "      <td></td>\n",
       "      <td>https://github.com/pytopia/Python-Programming/...</td>\n",
       "      <td>[0.023670831695199013, -0.009352004155516624, ...</td>\n",
       "    </tr>\n",
       "    <tr>\n",
       "      <th>2</th>\n",
       "      <td>downloaded_files/Lectures/01 Introduction/03 W...</td>\n",
       "      <td>03 Why Choose Python</td>\n",
       "      <td>Python's Simplicity and Versatility Strong Com...</td>\n",
       "      <td></td>\n",
       "      <td>https://github.com/pytopia/Python-Programming/...</td>\n",
       "      <td>[0.016650978475809097, -0.001550941844470799, ...</td>\n",
       "    </tr>\n",
       "    <tr>\n",
       "      <th>3</th>\n",
       "      <td>downloaded_files/Lectures/01 Introduction/04 P...</td>\n",
       "      <td>04 Python Features and Applications</td>\n",
       "      <td>Dynamic Typing and Automatic Memory Management...</td>\n",
       "      <td></td>\n",
       "      <td>https://github.com/pytopia/Python-Programming/...</td>\n",
       "      <td>[-0.0022560248617082834, 0.007630623411387205,...</td>\n",
       "    </tr>\n",
       "    <tr>\n",
       "      <th>4</th>\n",
       "      <td>downloaded_files/Lectures/01 Introduction/05 H...</td>\n",
       "      <td>05 How Long Does it Take to Learn Python</td>\n",
       "      <td>Factors that Influence Learning Journey Learni...</td>\n",
       "      <td></td>\n",
       "      <td>https://github.com/pytopia/Python-Programming/...</td>\n",
       "      <td>[0.02089807763695717, 0.006843096110969782, 0....</td>\n",
       "    </tr>\n",
       "  </tbody>\n",
       "</table>\n",
       "</div>"
      ],
      "text/plain": [
       "                                          local_path  \\\n",
       "0  downloaded_files/Lectures/01 Introduction/01 E...   \n",
       "1  downloaded_files/Lectures/01 Introduction/02 P...   \n",
       "2  downloaded_files/Lectures/01 Introduction/03 W...   \n",
       "3  downloaded_files/Lectures/01 Introduction/04 P...   \n",
       "4  downloaded_files/Lectures/01 Introduction/05 H...   \n",
       "\n",
       "                                       name  \\\n",
       "0                      01 Early Programming   \n",
       "1                  02 Programming Languages   \n",
       "2                      03 Why Choose Python   \n",
       "3       04 Python Features and Applications   \n",
       "4  05 How Long Does it Take to Learn Python   \n",
       "\n",
       "                                    table_of_content practice_exercises  \\\n",
       "0                                                                         \n",
       "1  The First Programming Languages Types of Progr...                      \n",
       "2  Python's Simplicity and Versatility Strong Com...                      \n",
       "3  Dynamic Typing and Automatic Memory Management...                      \n",
       "4  Factors that Influence Learning Journey Learni...                      \n",
       "\n",
       "                                         github_link  \\\n",
       "0  https://github.com/pytopia/Python-Programming/...   \n",
       "1  https://github.com/pytopia/Python-Programming/...   \n",
       "2  https://github.com/pytopia/Python-Programming/...   \n",
       "3  https://github.com/pytopia/Python-Programming/...   \n",
       "4  https://github.com/pytopia/Python-Programming/...   \n",
       "\n",
       "                                          embeddings  \n",
       "0  [0.001556192641146481, -0.016987796872854233, ...  \n",
       "1  [0.023670831695199013, -0.009352004155516624, ...  \n",
       "2  [0.016650978475809097, -0.001550941844470799, ...  \n",
       "3  [-0.0022560248617082834, 0.007630623411387205,...  \n",
       "4  [0.02089807763695717, 0.006843096110969782, 0....  "
      ]
     },
     "execution_count": 15,
     "metadata": {},
     "output_type": "execute_result"
    }
   ],
   "source": [
    "df.head()"
   ]
  },
  {
   "cell_type": "markdown",
   "metadata": {},
   "source": [
    "## Postgres pg-vector"
   ]
  },
  {
   "cell_type": "code",
   "execution_count": null,
   "metadata": {},
   "outputs": [],
   "source": [
    "# pip install psycopg2-binary"
   ]
  },
  {
   "cell_type": "code",
   "execution_count": 17,
   "metadata": {},
   "outputs": [],
   "source": [
    "import psycopg2"
   ]
  },
  {
   "cell_type": "code",
   "execution_count": 18,
   "metadata": {},
   "outputs": [],
   "source": [
    "# pip install psycopg2-binary"
   ]
  },
  {
   "cell_type": "code",
   "execution_count": 19,
   "metadata": {},
   "outputs": [],
   "source": [
    "connection = psycopg2.connect(\n",
    "        dbname=\"postgres\",\n",
    "        user=\"postgres\",\n",
    "        password=\"mypass\",\n",
    "        host=\"localhost\",  # or the database server IP address\n",
    "        port=\"5432\"        # default port for PostgreSQL\n",
    "    )"
   ]
  },
  {
   "cell_type": "code",
   "execution_count": 20,
   "metadata": {},
   "outputs": [],
   "source": [
    "cur = connection.cursor()\n",
    "#install pgvector\n",
    "cur.execute(\"CREATE EXTENSION IF NOT EXISTS vector\");\n",
    "connection.commit()"
   ]
  },
  {
   "cell_type": "code",
   "execution_count": 21,
   "metadata": {},
   "outputs": [],
   "source": [
    "from pgvector.psycopg2 import register_vector"
   ]
  },
  {
   "cell_type": "code",
   "execution_count": 22,
   "metadata": {},
   "outputs": [],
   "source": [
    "\n",
    "\n",
    "register_vector(connection)"
   ]
  },
  {
   "cell_type": "code",
   "execution_count": 23,
   "metadata": {},
   "outputs": [
    {
     "data": {
      "text/html": [
       "<div>\n",
       "<style scoped>\n",
       "    .dataframe tbody tr th:only-of-type {\n",
       "        vertical-align: middle;\n",
       "    }\n",
       "\n",
       "    .dataframe tbody tr th {\n",
       "        vertical-align: top;\n",
       "    }\n",
       "\n",
       "    .dataframe thead th {\n",
       "        text-align: right;\n",
       "    }\n",
       "</style>\n",
       "<table border=\"1\" class=\"dataframe\">\n",
       "  <thead>\n",
       "    <tr style=\"text-align: right;\">\n",
       "      <th></th>\n",
       "      <th>local_path</th>\n",
       "      <th>name</th>\n",
       "      <th>table_of_content</th>\n",
       "      <th>practice_exercises</th>\n",
       "      <th>github_link</th>\n",
       "      <th>embeddings</th>\n",
       "    </tr>\n",
       "  </thead>\n",
       "  <tbody>\n",
       "    <tr>\n",
       "      <th>82</th>\n",
       "      <td>downloaded_files/Lectures/10 Modular Programmi...</td>\n",
       "      <td>04 The Python Module Search Path</td>\n",
       "      <td>Understanding Python's Import System The Modul...</td>\n",
       "      <td></td>\n",
       "      <td>https://github.com/pytopia/Python-Programming/...</td>\n",
       "      <td>[0.017396213486790657, 0.004049348179250956, 0...</td>\n",
       "    </tr>\n",
       "    <tr>\n",
       "      <th>59</th>\n",
       "      <td>downloaded_files/Lectures/07 Functions/07 Lamb...</td>\n",
       "      <td>07 Lambda Functions</td>\n",
       "      <td>Understanding Lambda Functions What Are Lambda...</td>\n",
       "      <td>## &lt;a id='toc6_'&gt;&lt;/a&gt; ## &lt;a id='toc6_'&gt;&lt;/a&gt; La...</td>\n",
       "      <td>https://github.com/pytopia/Python-Programming/...</td>\n",
       "      <td>[0.03805854916572571, 0.010886633768677711, 0....</td>\n",
       "    </tr>\n",
       "    <tr>\n",
       "      <th>92</th>\n",
       "      <td>downloaded_files/Lectures/11 Advanced Topics/1...</td>\n",
       "      <td>13 Error Handling with try and Except</td>\n",
       "      <td></td>\n",
       "      <td></td>\n",
       "      <td>https://github.com/pytopia/Python-Programming/...</td>\n",
       "      <td>[0.001556192641146481, -0.016987796872854233, ...</td>\n",
       "    </tr>\n",
       "  </tbody>\n",
       "</table>\n",
       "</div>"
      ],
      "text/plain": [
       "                                           local_path  \\\n",
       "82  downloaded_files/Lectures/10 Modular Programmi...   \n",
       "59  downloaded_files/Lectures/07 Functions/07 Lamb...   \n",
       "92  downloaded_files/Lectures/11 Advanced Topics/1...   \n",
       "\n",
       "                                     name  \\\n",
       "82       04 The Python Module Search Path   \n",
       "59                    07 Lambda Functions   \n",
       "92  13 Error Handling with try and Except   \n",
       "\n",
       "                                     table_of_content  \\\n",
       "82  Understanding Python's Import System The Modul...   \n",
       "59  Understanding Lambda Functions What Are Lambda...   \n",
       "92                                                      \n",
       "\n",
       "                                   practice_exercises  \\\n",
       "82                                                      \n",
       "59  ## <a id='toc6_'></a> ## <a id='toc6_'></a> La...   \n",
       "92                                                      \n",
       "\n",
       "                                          github_link  \\\n",
       "82  https://github.com/pytopia/Python-Programming/...   \n",
       "59  https://github.com/pytopia/Python-Programming/...   \n",
       "92  https://github.com/pytopia/Python-Programming/...   \n",
       "\n",
       "                                           embeddings  \n",
       "82  [0.017396213486790657, 0.004049348179250956, 0...  \n",
       "59  [0.03805854916572571, 0.010886633768677711, 0....  \n",
       "92  [0.001556192641146481, -0.016987796872854233, ...  "
      ]
     },
     "execution_count": 23,
     "metadata": {},
     "output_type": "execute_result"
    }
   ],
   "source": [
    "df.sample(3)"
   ]
  },
  {
   "cell_type": "markdown",
   "metadata": {},
   "source": [
    "### Create Table"
   ]
  },
  {
   "cell_type": "code",
   "execution_count": 31,
   "metadata": {},
   "outputs": [],
   "source": [
    "# Create table to store embeddings and metadata\n",
    "table_create_command = \"\"\"\n",
    "CREATE TABLE embeddings (\n",
    "            id bigserial primary key, \n",
    "            local_path text,\n",
    "            name text,\n",
    "            table_of_content text,\n",
    "            practice_exercises text,\n",
    "            github_link text,\n",
    "            embedding vector(1536)\n",
    "            );\n",
    "            \"\"\"\n",
    "cur.execute(table_create_command)\n",
    "cur.close()\n",
    "connection.commit()"
   ]
  },
  {
   "cell_type": "code",
   "execution_count": 52,
   "metadata": {},
   "outputs": [],
   "source": [
    "import numpy as np\n",
    "from psycopg2.extras import execute_values"
   ]
  },
  {
   "cell_type": "code",
   "execution_count": 53,
   "metadata": {},
   "outputs": [],
   "source": [
    "#Batch insert embeddings and metadata from dataframe into PostgreSQL database\n",
    "register_vector(connection)\n",
    "cur = connection.cursor()\n",
    "# Prepare the list of tuples to insert\n",
    "data_list = [(row['local_path'], row['name'], row['table_of_content'], row['practice_exercises'], row['github_link'], np.array(row['embeddings'])) for index, row in df.iterrows()]\n",
    "# Use execute_values to perform batch insertion\n",
    "execute_values(cur, \"INSERT INTO embeddings (local_path, name, table_of_content, practice_exercises, github_link, embedding) VALUES %s\", data_list)\n",
    "# Commit after we insert all embeddings\n",
    "connection.commit()"
   ]
  },
  {
   "cell_type": "code",
   "execution_count": null,
   "metadata": {},
   "outputs": [],
   "source": []
  },
  {
   "cell_type": "code",
   "execution_count": null,
   "metadata": {},
   "outputs": [],
   "source": []
  },
  {
   "cell_type": "markdown",
   "metadata": {},
   "source": [
    "## User Query Similarity Search"
   ]
  },
  {
   "cell_type": "code",
   "execution_count": 24,
   "metadata": {},
   "outputs": [],
   "source": [
    "import numpy as np"
   ]
  },
  {
   "cell_type": "code",
   "execution_count": 25,
   "metadata": {},
   "outputs": [],
   "source": [
    "#Helper function: Get top 3 most similar documents from the database\n",
    "def get_top3_similar_docs(query_embedding, connection):\n",
    "    embedding_array = np.array(query_embedding)\n",
    "    # Register pgvector extension\n",
    "    register_vector(connection)\n",
    "    cur = connection.cursor()\n",
    "    # Get the top 3 most similar documents using the KNN <=> operator\n",
    "    cur.execute(\"SELECT table_of_content, name, practice_exercises, github_link FROM embeddings ORDER BY embedding <=> %s LIMIT 3\", (embedding_array,))\n",
    "    top3_docs = cur.fetchall()\n",
    "    return top3_docs"
   ]
  },
  {
   "cell_type": "code",
   "execution_count": 26,
   "metadata": {},
   "outputs": [],
   "source": [
    "# Helper function: get text completion from OpenAI API\n",
    "# Note we're using the latest gpt-3.5-turbo-0613 model\n",
    "def get_completion_from_messages(messages, model=\"gpt-4o\", temperature=0, max_tokens=1000):\n",
    "    response = openai.ChatCompletion.create(\n",
    "        model=model,\n",
    "        messages=messages,\n",
    "        temperature=temperature, \n",
    "        max_tokens=max_tokens, \n",
    "    )\n",
    "    return response.choices[0].message[\"content\"]"
   ]
  },
  {
   "cell_type": "code",
   "execution_count": 27,
   "metadata": {},
   "outputs": [],
   "source": [
    "# Helper function: get embeddings for a text\n",
    "def get_embeddings(text):\n",
    "    response = openai.Embedding.create(\n",
    "        model=\"text-embedding-ada-002\",\n",
    "        input = text.replace(\"\\n\",\" \")\n",
    "    )\n",
    "    embedding = response['data'][0]['embedding']\n",
    "    return embedding"
   ]
  },
  {
   "cell_type": "code",
   "execution_count": 28,
   "metadata": {},
   "outputs": [],
   "source": [
    "related_docs = get_top3_similar_docs(get_embeddings(\"Best Practices for Function Arguments in Python\"), connection)"
   ]
  },
  {
   "cell_type": "code",
   "execution_count": 29,
   "metadata": {},
   "outputs": [
    {
     "data": {
      "text/plain": [
       "[('Positional Arguments Keyword Arguments Default Parameters Best Practices for Function Arguments in Python Positional Arguments Keyword Arguments Default Parameters Practice Exercise: A Day at the Zoo Solution',\n",
       "  '03 Argument Passing',\n",
       "  '## <a id=\\'toc5_\\'></a> ## <a id=\\'toc5_\\'></a> You are planning a visit to the local zoo with a group of students. The zoo has several sections for different kinds of animals, and each section has feeding times, special shows, and educational talks. To maximize the visit, you decide to write a Python program that helps organize the day\\'s activities based on the group\\'s preferences. *Tasks:** 1. Write a function named `schedule_visit` that takes three parameters: `section` (the section of the zoo to visit, e.g., \"Reptiles\", \"Birds\"), `time` (the time you plan to visit that section), and `activity` with a default value of \"Feeding\". The function should print a message summarizing the visit plan for that section. 2. Call the `schedule_visit` function for the \"Reptiles\" section at \"10:00 AM\" without specifying an activity to use the default value. 3. Call the `schedule_visit` function for the \"Birds\" section at \"1:00 PM\" with the activity \"Educational Talk\". 4. Write a function named `add_special_request` that takes two parameters: `section` and `request` with a default value of \"None\". This function should print a message indicating any special requests for the visit to that section. If no special request is made, the function should print that no special requests have been made for this section. 5. Call the `add_special_request` function for the \"Reptiles\" section without specifying a request. 6. Call the `add_special_request` function for the \"Mammals\" section with a special request of \"Wheelchair Access\". *Expected Output:** ```sh Planning to visit Reptiles section at 10:00 AM for a Feeding activity. Planning to visit Birds section at 1:00 PM for an Educational Talk activity. No special requests have been made for the Reptiles section. Special request for the Mammals section: Wheelchair Access. ``` This exercise engages you in applying the concepts of default parameters and function calls with both positional and keyword arguments. It is designed to reflect a practical scenario where such programming techniques can organize information efficiently and flexibly.',\n",
       "  'https://github.com/pytopia/Python-Programming/blob/main/Lectures/07%20Functions/03%20Argument%20Passing.ipynb'),\n",
       " ('Types of Parameters Positional Parameters Keyword Parameters Default Parameters Variable-Length Parameters Best Practices for Using `*args` and `**kwargs` Mixing Different Types of Parameters Rules and Syntax for Mixing Parameter Types Practical Examples Demonstrating Mixed Parameter Types Best Practices for Defining Parameters Tips for Naming and Ordering Parameters Guidelines for Using Different Types of Parameters Examples Practice Exercise Tasks: Sample Calls and Expected Outputs: Solution',\n",
       "  '04 Function Parameters',\n",
       "  \"## <a id='toc4_'></a> ## <a id='toc4_'></a> In the previous lecture, we covered the different types of function parameters in Python and their importance in writing flexible and modular code. Now, it is time to apply your knowledge through a set of practical exercises that involve writing functions with a variety of parameter types.\",\n",
       "  'https://github.com/pytopia/Python-Programming/blob/main/Lectures/11%20Advanced%20Topics/04%20Function%20Parameters.ipynb'),\n",
       " ('Positional Arguments Keyword Arguments Unpacking Arguments Unpacking Iterables with `*` Unpacking Dictionaries with `**` Best Practices for Using Function Arguments Descriptive Argument Names Use Keyword Arguments to Enhance Readability Consistent Ordering of Arguments Practice Exercise Solution',\n",
       "  '03 Function Arguments',\n",
       "  '## <a id=\\'toc5_\\'></a> ## <a id=\\'toc5_\\'></a> You are tasked with creating a command-line tool that processes user data for a small software application. The tool will need to take user information, validate it, and then output a formatted summary. This exercise will test your understanding of function arguments, including how to use positional, keyword, and unpacking arguments effectively. *Tasks:** 1. Define a function named `validate_user` that takes three positional arguments: `username`, `email`, and `age`. The function should check if the `username` is a non-empty string, the `email` contains an \"@\" symbol, and the `age` is a positive integer. The function should return `True` if all checks pass, or `False` otherwise. 2. Define a function named `format_user_data` that takes three keyword arguments: `username`, `email`, and `age`. The function should return a string formatted as \"Username: {username}, Email: {email}, Age: {age}\". 3. Write a main function named `process_user_data` that takes an unpacked list of user data. Within this function, call `validate_user` to ensure that the data is correct. If the data is valid, call `format_user_data` and print the output. If the data is invalid, print \"Invalid user data provided.\" 4. Call the `process_user_data` function twice: first with a valid list of user data and then with an invalid list. Use the unpacking operator to pass the list of data to the function. 5. Modify the `process_user_data` function to also accept and correctly handle keyword arguments for user data. 6. Call the `process_user_data` function with keyword arguments to demonstrate that it works with both positional and keyword arguments. *Expected Output:** For the three calls to `process_user_data`, you should see the following outputs (assuming the first call is valid, the second is invalid, and the third is valid with keyword arguments): ```sh Username: johndoe, Email: johndoe@example.com, Age: 28 Invalid user data provided. Username: janedoe, Email: janedoe@example.com, Age: 32 ``` *Hints:** Remember to use type hints to clarify what types of arguments your functions should accept. Think about how you can use if statements to perform the validation checks in the `validate_user` function. Consider using f-strings to create the formatted string in the `format_user_data` function. Use conditional logic in the `process_user_data` function to determine whether to unpack the arguments as positional or keyword arguments. This exercise should help reinforce your understanding of how to handle various types of function arguments and how to use them to create clear, maintainable code. Good luck!',\n",
       "  'https://github.com/pytopia/Python-Programming/blob/main/Lectures/11%20Advanced%20Topics/03%20Function%20Arguments.ipynb')]"
      ]
     },
     "execution_count": 29,
     "metadata": {},
     "output_type": "execute_result"
    }
   ],
   "source": [
    "related_docs"
   ]
  },
  {
   "cell_type": "code",
   "execution_count": 30,
   "metadata": {},
   "outputs": [],
   "source": [
    "# Function to process input with retrieval of most similar documents from the database\n",
    "def process_input_with_retrieval(user_input):\n",
    "    delimiter = \"```\"\n",
    "    #Step 1: Get documents related to the user input from database\n",
    "    related_docs = get_top3_similar_docs(get_embeddings(user_input), connection)\n",
    "    #print(related_docs)\n",
    "    # Step 2: Get completion from OpenAI API\n",
    "    # Set system message to help set appropriate tone and context for model\n",
    "    system_message = f\"\"\"\n",
    "    You are a friendly Pytopia chatbot. \\\n",
    "    You can answer questions about Pytopia Python Programming Course Notebook and Github Repository, its features and its use cases. \\\n",
    "    You respond in a concise, technically credible tone. \\\n",
    "    \"\"\"\n",
    "    # Prepare messages to pass to model\n",
    "    # We use a delimiter to help the model understand the where the user_input starts and ends\n",
    "    messages = [\n",
    "        {\"role\": \"system\", \"content\": system_message},\n",
    "        {\"role\": \"user\", \"content\": f\"{delimiter}{user_input}{delimiter}\"},\n",
    "        {\"role\": \"assistant\", \"content\": f\"Relevant Pytopia Python Programming Course Notebooks and GitHub repository information: \\n {related_docs[0][0]} \\n {related_docs[1][0]} {related_docs[2][0]}\"}\n",
    "    ]\n",
    "    final_response = get_completion_from_messages(messages)\n",
    "    return final_response"
   ]
  },
  {
   "cell_type": "code",
   "execution_count": 31,
   "metadata": {},
   "outputs": [],
   "source": [
    "result = process_input_with_retrieval(\"approach for Function Arguments in Python\")"
   ]
  },
  {
   "cell_type": "code",
   "execution_count": 32,
   "metadata": {},
   "outputs": [],
   "source": [
    "from pprint import pprint"
   ]
  },
  {
   "cell_type": "code",
   "execution_count": 33,
   "metadata": {},
   "outputs": [
    {
     "name": "stdout",
     "output_type": "stream",
     "text": [
      "In Python, function arguments can be categorized into several types, each serving a specific purpose. Here's a concise overview of the different types of function arguments and best practices for using them:\n",
      "\n",
      "1. **Positional Arguments**: These are the most common type of arguments. They are passed to a function in the order in which they are defined. For example:\n",
      "   ```python\n",
      "   def greet(name, age):\n",
      "       print(f\"Hello, {name}! You are {age} years old.\")\n",
      "   greet(\"Alice\", 30)\n",
      "   ```\n",
      "\n",
      "2. **Keyword Arguments**: These arguments are passed to a function by explicitly specifying the parameter name, allowing you to skip the order. For example:\n",
      "   ```python\n",
      "   greet(age=30, name=\"Alice\")\n",
      "   ```\n",
      "\n",
      "3. **Default Parameters**: These parameters have default values specified in the function definition. If no argument is provided for a default parameter, the default value is used. For example:\n",
      "   ```python\n",
      "   def greet(name, age=25):\n",
      "       print(f\"Hello, {name}! You are {age} years old.\")\n",
      "   greet(\"Bob\")  # Uses the default age of 25\n",
      "   ```\n",
      "\n",
      "4. **Variable-Length Parameters**: These allow a function to accept an arbitrary number of arguments. They are defined using `*args` for non-keyword arguments and `**kwargs` for keyword arguments. For example:\n",
      "   ```python\n",
      "   def print_args(*args):\n",
      "       for arg in args:\n",
      "           print(arg)\n",
      "\n",
      "   def print_kwargs(**kwargs):\n",
      "       for key, value in kwargs.items():\n",
      "           print(f\"{key}: {value}\")\n",
      "   ```\n",
      "\n",
      "5. **Unpacking Arguments**: You can unpack iterables and dictionaries into function arguments using `*` and `**`, respectively. For example:\n",
      "   ```python\n",
      "   numbers = (1, 2, 3)\n",
      "   print_args(*numbers)\n",
      "\n",
      "   info = {'name': 'Alice', 'age': 30}\n",
      "   greet(**info)\n",
      "   ```\n",
      "\n",
      "**Best Practices**:\n",
      "- Use descriptive names for arguments to enhance code readability.\n",
      "- Prefer keyword arguments for functions with many parameters to improve clarity.\n",
      "- Maintain a consistent order of parameters, especially when mixing different types.\n",
      "- Use `*args` and `**kwargs` judiciously to avoid making the function signature unclear.\n",
      "\n",
      "These practices help in writing clean, maintainable, and flexible code.\n"
     ]
    }
   ],
   "source": [
    "print(result)"
   ]
  },
  {
   "cell_type": "code",
   "execution_count": null,
   "metadata": {},
   "outputs": [],
   "source": []
  }
 ],
 "metadata": {
  "kernelspec": {
   "display_name": "telegram",
   "language": "python",
   "name": "python3"
  },
  "language_info": {
   "codemirror_mode": {
    "name": "ipython",
    "version": 3
   },
   "file_extension": ".py",
   "mimetype": "text/x-python",
   "name": "python",
   "nbconvert_exporter": "python",
   "pygments_lexer": "ipython3",
   "version": "3.11.9"
  }
 },
 "nbformat": 4,
 "nbformat_minor": 2
}
