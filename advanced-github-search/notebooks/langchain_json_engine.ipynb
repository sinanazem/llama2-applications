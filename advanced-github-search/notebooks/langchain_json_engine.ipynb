{
 "cells": [
  {
   "cell_type": "markdown",
   "metadata": {
    "vscode": {
     "languageId": "plaintext"
    }
   },
   "source": [
    "https://medium.com/@glenpatzlaff/raw-json-to-measurable-rag-insights-in-a-matter-of-minutes-with-langchain-and-trulens-f36e4415b079"
   ]
  },
  {
   "cell_type": "markdown",
   "metadata": {},
   "source": [
    "## Read Json Data"
   ]
  },
  {
   "cell_type": "code",
   "execution_count": 1,
   "metadata": {},
   "outputs": [],
   "source": [
    "import json\n",
    "\n",
    "def read_json_file(file_path):\n",
    "    \"\"\"\n",
    "    Reads JSON data from a file and returns it as a Python dictionary.\n",
    "\n",
    "    :param file_path: Path to the JSON file.\n",
    "    :return: Parsed JSON data as a dictionary or list.\n",
    "    \"\"\"\n",
    "    try:\n",
    "        with open(file_path, 'r', encoding='utf-8') as json_file:\n",
    "            data = json.load(json_file)\n",
    "            return data\n",
    "    except FileNotFoundError:\n",
    "        print(f\"Error: The file {file_path} was not found.\")\n",
    "    except json.JSONDecodeError:\n",
    "        print(f\"Error: The file {file_path} contains invalid JSON.\")\n",
    "    except Exception as e:\n",
    "        print(f\"An unexpected error occurred: {e}\")"
   ]
  },
  {
   "cell_type": "code",
   "execution_count": 5,
   "metadata": {},
   "outputs": [],
   "source": [
    "data = read_json_file(\"notebooks_summary.json\")"
   ]
  },
  {
   "cell_type": "markdown",
   "metadata": {},
   "source": [
    "## Convert List of Dict to List of Text"
   ]
  },
  {
   "cell_type": "code",
   "execution_count": 8,
   "metadata": {},
   "outputs": [],
   "source": [
    "texts = []\n",
    "\n",
    "for github_notebook in data:\n",
    "    local_path = github_notebook[\"local_path\"]\n",
    "    name = github_notebook[\"name\"]\n",
    "    table_of_content =  \" \".join(github_notebook[\"table_of_content\"])\n",
    "    practice_exercises =  \" \".join(github_notebook[\"practice_exercises\"])\n",
    "    github_link = github_notebook['github_link']\n",
    "\n",
    "    # Prepare text for embedding\n",
    "    text_to_embed = f\"Python Programming Pytopia Course Repository: local_path is: {local_path} file name is: {name}, table_of_content is {table_of_content} and practice_exercises: {practice_exercises} and github_link: {github_link}\"\n",
    "    texts.append(text_to_embed)"
   ]
  },
  {
   "cell_type": "markdown",
   "metadata": {},
   "source": [
    "## Create RAG on json Data"
   ]
  },
  {
   "cell_type": "code",
   "execution_count": 32,
   "metadata": {},
   "outputs": [],
   "source": [
    "import json\n",
    "from pathlib import Path\n",
    "from langchain import hub\n",
    "from langchain_openai import ChatOpenAI\n",
    "from langchain_openai import OpenAIEmbeddings\n",
    "from langchain.schema import StrOutputParser\n",
    "from langchain.text_splitter import RecursiveCharacterTextSplitter\n",
    "from langchain_community.vectorstores import Chroma\n",
    "from langchain_core.runnables import RunnablePassthrough\n",
    "from langchain.docstore.document import Document\n",
    "\n",
    "from langchain.chains import create_retrieval_chain\n",
    "from langchain.chains.combine_documents import create_stuff_documents_chain\n",
    "from langchain_core.prompts import ChatPromptTemplate"
   ]
  },
  {
   "cell_type": "code",
   "execution_count": 31,
   "metadata": {},
   "outputs": [],
   "source": [
    "# from trulens_eval import TruChain, Tru\n",
    "# from trulens_eval.feedback.provider import OpenAI\n",
    "# from trulens_eval import Feedback\n",
    "# import numpy as np\n",
    "\n",
    "# tru = Tru()\n",
    "# tru.reset_database()"
   ]
  },
  {
   "cell_type": "markdown",
   "metadata": {},
   "source": [
    "### Create system_prompt"
   ]
  },
  {
   "cell_type": "code",
   "execution_count": 44,
   "metadata": {},
   "outputs": [],
   "source": [
    "system_prompt = (\n",
    "    \"You are an assistant for question-answering tasks related to Python programming lectures from the Pytopia Python Programming GitHub repository. \"\n",
    "    \"Your task is to use the provided context to answer questions about these lectures succinctly and accurately. \"\n",
    "    \"If you don't know the answer, state that you don't know.\"\n",
    "    \"\\n\\n\"\n",
    "    \"Use the following JSON structure to extract relevant information:\"\n",
    "    \"\\n- Main topics covered in the lecture, found in the 'table_of_content' field.\"\n",
    "    \"\\n- Practice exercises included in the lecture, found in the 'practice_exercises' field, along with their expected output.\"\n",
    "    \"\\n- GitHub link to the lecture notebook, found in the 'github_link' field.\"\n",
    "    \"\\n\\n\"\n",
    "    \"To assist users efficiently, structure your response as follows:\"\n",
    "    \"\\n1. Main topics covered in the lecture.\"\n",
    "    \"\\n2. Practice exercises and their expected output.\"\n",
    "    \"\\n3. GitHub link to the lecture notebook.\"\n",
    "    \"\\n\\n\"\n",
    "    \"Include the relevant context provided below:\"\n",
    "    \"\\n{context}\"\n",
    "    \"\\n\\n\"\n",
    "    \"Use this structure to help knowledge seekers access specific lecture content and related exercises effectively.\"\n",
    ")"
   ]
  },
  {
   "cell_type": "code",
   "execution_count": 45,
   "metadata": {},
   "outputs": [],
   "source": [
    "prompt = ChatPromptTemplate.from_messages(\n",
    "    [\n",
    "        (\"system\", system_prompt),\n",
    "        (\"human\", \"{input}\"),\n",
    "    ]\n",
    ")"
   ]
  },
  {
   "cell_type": "code",
   "execution_count": 35,
   "metadata": {},
   "outputs": [],
   "source": [
    "# ## https://python.langchain.com/docs/tutorials/rag/\n",
    "\n",
    "# question_answer_chain = create_stuff_documents_chain(llm, prompt)\n",
    "# rag_chain = create_retrieval_chain(retriever, question_answer_chain)\n",
    "\n",
    "# response = rag_chain.invoke({\"input\": \"What is Task Decomposition?\"})\n",
    "# print(response[\"answer\"])"
   ]
  },
  {
   "cell_type": "code",
   "execution_count": 46,
   "metadata": {},
   "outputs": [],
   "source": [
    "documents = [Document(page_content=text) for text in texts]\n",
    "\n",
    "# text_splitter = RecursiveCharacterTextSplitter(\n",
    "#     chunk_size=1000,\n",
    "#     chunk_overlap=200\n",
    "# )\n",
    "\n",
    "# splits = text_splitter.split_documents(documents)\n",
    "\n",
    "vectorstore = Chroma.from_documents(\n",
    "    documents=documents,\n",
    "    embedding=OpenAIEmbeddings()\n",
    ")\n",
    "\n",
    "retriever = vectorstore.as_retriever()"
   ]
  },
  {
   "cell_type": "code",
   "execution_count": 47,
   "metadata": {},
   "outputs": [],
   "source": [
    "# prompt = hub.pull(\"rlm/rag-prompt\")\n",
    "llm = ChatOpenAI(model_name=\"gpt-3.5-turbo\", temperature=0)"
   ]
  },
  {
   "cell_type": "code",
   "execution_count": 48,
   "metadata": {},
   "outputs": [],
   "source": [
    "def format_docs(docs):\n",
    "    return \"\\n\\n\".join(doc.page_content for doc in docs)"
   ]
  },
  {
   "cell_type": "code",
   "execution_count": 49,
   "metadata": {},
   "outputs": [],
   "source": [
    "from langchain_core.prompts import PromptTemplate\n",
    "\n",
    "template = \"\"\"\n",
    "\n",
    "You are an assistant for question-answering tasks related to Python programming lectures from the Pytopia Python Programming GitHub repository.\n",
    "Your task is to use the provided context to answer questions about these lectures succinctly and accurately.\n",
    "    If you don't know the answer, state that you don't know.\n",
    "    \\n\\n\n",
    "    Use the following JSON structure to extract relevant information:\n",
    "    \\n- Main topics covered in the lecture, found in the 'table_of_content' field.\n",
    "    \\n- Practice exercises included in the lecture, found in the 'practice_exercises' field, along with their expected output.\n",
    "    \\n- GitHublink to the lecture notebook, found in the 'github_link' field.\n",
    "    \\n\\n\n",
    "    To assist users efficiently, structure your response as follows:\n",
    "    \\n1. Main topics covered in the lecture.\n",
    "    \\n2. Practice exercises and their expected output.\n",
    "    \\n3. GitHub link to the lecture notebook.\n",
    "    \\n\\n\n",
    "    Include the relevant context provided below:\n",
    "    \\n{context}\n",
    "    \\n\\n\n",
    "    Use this structure to help knowledge seekers access specific lecture content and related exercises effectively.\n",
    "\n",
    "\"\"\"\n",
    "\n",
    "\n",
    "custom_rag_prompt = PromptTemplate.from_template(template)\n",
    "\n",
    "rag_chain = (\n",
    "    {\"context\": retriever | format_docs, \"question\": RunnablePassthrough()}\n",
    "    | custom_rag_prompt\n",
    "    | llm\n",
    "    | StrOutputParser()\n",
    ")\n",
    "\n"
   ]
  },
  {
   "cell_type": "code",
   "execution_count": 51,
   "metadata": {},
   "outputs": [
    {
     "name": "stdout",
     "output_type": "stream",
     "text": [
      "1. Main topics covered in the lecture:\n",
      "   - Packing into tuples\n",
      "   - Unpacking from tuples\n",
      "   - Unpacking from lists\n",
      "   - Unpacking dictionaries\n",
      "   - Extended unpacking with lists\n",
      "   - Bonus: Swapping values\n",
      "\n",
      "2. Practice exercises and their expected output:\n",
      "   - Packing into Tuples:\n",
      "     - Create a tuple called `student_info` by packing the variables `name`, `age`, `grade`, and `subject`.\n",
      "   - Unpacking from Tuples:\n",
      "     - Given a tuple `coordinates`, unpack the values into variables `x`, `y`, and `z`.\n",
      "   - Unpacking from Lists:\n",
      "     - Unpack a list of scores into variables `math_score`, `science_score`, and `english_score`.\n",
      "   - Unpacking Dictionaries:\n",
      "     - Unpack values from a dictionary `student` into variables `student_name`, `student_age`, and `student_email`.\n",
      "   - Extended Unpacking with Lists:\n",
      "     - Use extended unpacking to separate numbers into variables and a list.\n",
      "\n",
      "3. GitHub link to the lecture notebook:\n",
      "   - GitHub link: [Variable-Length Argument Lecture](https://github.com/pytopia/Python-Programming/blob/main/Lectures/07%20Functions/05%20Variable-Length%20Argument.ipynb)\n"
     ]
    }
   ],
   "source": [
    "print(rag_chain.invoke(\"i want Learn Argument Dictionary Unpacking?\"))"
   ]
  },
  {
   "cell_type": "code",
   "execution_count": 52,
   "metadata": {},
   "outputs": [
    {
     "data": {
      "text/plain": [
       "[Document(metadata={}, page_content='Development Basics\". 4. Use argument dictionary unpacking to call `session_details` with details stored in a dictionary for the session \"Web Development Basics\". 5. Combine both packing and unpacking techniques to organize a session named \"Advanced Python\", which includes unpacking a list of topics and unpacking session details from a dictionary. *Expected Output:** ```sh Topics planned for this session: [\\'Python Basics\\', \\'Data Types Fundamentals\\', \\'Functions\\'] Session Details: Name: Python Development Basics Attendees: 40 Room: 105 Topics planned for this session: [\\'Object Oriented Programming\\', \\'Modules\\'] Session Details: Name: Advanced Python Attendees: 25 Room: 203 ``` This exercise will help you practice the use of variable-length argument handling in Python, including both packing and unpacking techniques, in the context of a practical scenario. By completing these tasks, you will gain a deeper understanding of how to utilize these features to make your functions more flexible'),\n",
       " Document(metadata={}, page_content=\"and dictionaries, you will gain hands-on experience with these methods and understand how they can be used to simplify data handling. *Tasks:** 1. **Packing into Tuples**: Create a tuple called `student_info` by packing the following individual variables: `name`, `age`, `grade`, and `subject`, which hold a student's name, age, grade (as a letter), and favorite subject, respectively. 2. **Unpacking from Tuples**: Given a tuple `coordinates` with three elements representing x, y, and z coordinates, unpack these values into separate variables called `x`, `y`, and `z`. Print the variables. 3. **Unpacking from Lists**: Suppose you have a list of scores `[72, 85, 90]`. Unpack the scores into variables `math_score`, `science_score`, and `english_score`, respectively. Then, print these variables. 4. **Unpacking Dictionaries**: Given a dictionary `student`, with keys `name`, `age`, and `email`, unpack the values of this dictionary into variables `student_name`, `student_age`, and\"),\n",
       " Document(metadata={}, page_content='variables. 4. **Unpacking Dictionaries**: Given a dictionary `student`, with keys `name`, `age`, and `email`, unpack the values of this dictionary into variables `student_name`, `student_age`, and `student_email`. Print the variables. 5. **Extended Unpacking with Lists**: You have a list of numbers `[1, 2, 3, 4, 5, 6, 7, 8]`. Use extended unpacking to get the first two numbers into variables `first_num` and `second_num`, and the rest of the numbers into a list called `remaining_numbers`. 6. **Bonus: Swapping Values**: Without using a temporary variable, swap the values of two variables `a` and `b` using packing and unpacking. *Sample Data:** # For Task 1 name = \"Alice\" age = 17 grade = \"A\" subject = \"Mathematics\" # For Task 2 coordinates = (4, 5, 6) # For Task 4 student = { \"name\": \"Bob\", \"age\": 20, \"email\": \"bob@example.com\" } *Expected Output:** ```bash # For Task 2 x: 4, y: 5, z: 6 # For Task 3 Math score: 72, Science score: 85, English score: 90 # For Task 4 Student Name: Bob,'),\n",
       " Document(metadata={}, page_content='and unpacking techniques, in the context of a practical scenario. By completing these tasks, you will gain a deeper understanding of how to utilize these features to make your functions more flexible and adaptable to various inputs. and github_link: https://github.com/pytopia/Python-Programming/blob/main/Lectures/07%20Functions/05%20Variable-Length%20Argument.ipynb')]"
      ]
     },
     "execution_count": 52,
     "metadata": {},
     "output_type": "execute_result"
    }
   ],
   "source": [
    "retriever.invoke(\"i want Learn Argument Dictionary Unpacking?\")"
   ]
  },
  {
   "cell_type": "code",
   "execution_count": 38,
   "metadata": {},
   "outputs": [
    {
     "ename": "KeyError",
     "evalue": "\"Input to ChatPromptTemplate is missing variables {'input'}.  Expected: ['context', 'input'] Received: ['context', 'question']\\nNote: if you intended {input} to be part of the string and not a variable, please escape it with double curly braces like: '{{input}}'.\"",
     "output_type": "error",
     "traceback": [
      "\u001b[0;31m---------------------------------------------------------------------------\u001b[0m",
      "\u001b[0;31mKeyError\u001b[0m                                  Traceback (most recent call last)",
      "Cell \u001b[0;32mIn[38], line 11\u001b[0m\n\u001b[1;32m      2\u001b[0m     \u001b[38;5;28;01mreturn\u001b[39;00m \u001b[38;5;124m\"\u001b[39m\u001b[38;5;130;01m\\n\u001b[39;00m\u001b[38;5;130;01m\\n\u001b[39;00m\u001b[38;5;124m\"\u001b[39m\u001b[38;5;241m.\u001b[39mjoin(doc\u001b[38;5;241m.\u001b[39mpage_content \u001b[38;5;28;01mfor\u001b[39;00m doc \u001b[38;5;129;01min\u001b[39;00m documents)\n\u001b[1;32m      4\u001b[0m rag_chain \u001b[38;5;241m=\u001b[39m (\n\u001b[1;32m      5\u001b[0m     {\u001b[38;5;124m\"\u001b[39m\u001b[38;5;124mcontext\u001b[39m\u001b[38;5;124m\"\u001b[39m: retriever \u001b[38;5;241m|\u001b[39m format_docs, \u001b[38;5;124m\"\u001b[39m\u001b[38;5;124mquestion\u001b[39m\u001b[38;5;124m\"\u001b[39m: RunnablePassthrough()}\n\u001b[1;32m      6\u001b[0m     \u001b[38;5;241m|\u001b[39m prompt\n\u001b[1;32m      7\u001b[0m     \u001b[38;5;241m|\u001b[39m llm\n\u001b[1;32m      8\u001b[0m     \u001b[38;5;241m|\u001b[39m StrOutputParser()\n\u001b[1;32m      9\u001b[0m )\n\u001b[0;32m---> 11\u001b[0m result \u001b[38;5;241m=\u001b[39m \u001b[43mrag_chain\u001b[49m\u001b[38;5;241;43m.\u001b[39;49m\u001b[43minvoke\u001b[49m\u001b[43m(\u001b[49m\u001b[38;5;124;43m\"\u001b[39;49m\u001b[38;5;124;43mi want Learn Argument Dictionary Unpacking?\u001b[39;49m\u001b[38;5;124;43m\"\u001b[39;49m\u001b[43m)\u001b[49m\n\u001b[1;32m     12\u001b[0m \u001b[38;5;28mprint\u001b[39m(result)\n",
      "File \u001b[0;32m~/miniconda3/envs/pytopia_notebook/lib/python3.11/site-packages/langchain_core/runnables/base.py:3022\u001b[0m, in \u001b[0;36mRunnableSequence.invoke\u001b[0;34m(self, input, config, **kwargs)\u001b[0m\n\u001b[1;32m   3020\u001b[0m             \u001b[38;5;28minput\u001b[39m \u001b[38;5;241m=\u001b[39m context\u001b[38;5;241m.\u001b[39mrun(step\u001b[38;5;241m.\u001b[39minvoke, \u001b[38;5;28minput\u001b[39m, config, \u001b[38;5;241m*\u001b[39m\u001b[38;5;241m*\u001b[39mkwargs)\n\u001b[1;32m   3021\u001b[0m         \u001b[38;5;28;01melse\u001b[39;00m:\n\u001b[0;32m-> 3022\u001b[0m             \u001b[38;5;28minput\u001b[39m \u001b[38;5;241m=\u001b[39m context\u001b[38;5;241m.\u001b[39mrun(step\u001b[38;5;241m.\u001b[39minvoke, \u001b[38;5;28minput\u001b[39m, config)\n\u001b[1;32m   3023\u001b[0m \u001b[38;5;66;03m# finish the root run\u001b[39;00m\n\u001b[1;32m   3024\u001b[0m \u001b[38;5;28;01mexcept\u001b[39;00m \u001b[38;5;167;01mBaseException\u001b[39;00m \u001b[38;5;28;01mas\u001b[39;00m e:\n",
      "File \u001b[0;32m~/miniconda3/envs/pytopia_notebook/lib/python3.11/site-packages/langchain_core/prompts/base.py:193\u001b[0m, in \u001b[0;36mBasePromptTemplate.invoke\u001b[0;34m(self, input, config, **kwargs)\u001b[0m\n\u001b[1;32m    191\u001b[0m \u001b[38;5;28;01mif\u001b[39;00m \u001b[38;5;28mself\u001b[39m\u001b[38;5;241m.\u001b[39mtags:\n\u001b[1;32m    192\u001b[0m     config[\u001b[38;5;124m\"\u001b[39m\u001b[38;5;124mtags\u001b[39m\u001b[38;5;124m\"\u001b[39m] \u001b[38;5;241m=\u001b[39m config[\u001b[38;5;124m\"\u001b[39m\u001b[38;5;124mtags\u001b[39m\u001b[38;5;124m\"\u001b[39m] \u001b[38;5;241m+\u001b[39m \u001b[38;5;28mself\u001b[39m\u001b[38;5;241m.\u001b[39mtags\n\u001b[0;32m--> 193\u001b[0m \u001b[38;5;28;01mreturn\u001b[39;00m \u001b[38;5;28;43mself\u001b[39;49m\u001b[38;5;241;43m.\u001b[39;49m\u001b[43m_call_with_config\u001b[49m\u001b[43m(\u001b[49m\n\u001b[1;32m    194\u001b[0m \u001b[43m    \u001b[49m\u001b[38;5;28;43mself\u001b[39;49m\u001b[38;5;241;43m.\u001b[39;49m\u001b[43m_format_prompt_with_error_handling\u001b[49m\u001b[43m,\u001b[49m\n\u001b[1;32m    195\u001b[0m \u001b[43m    \u001b[49m\u001b[38;5;28;43minput\u001b[39;49m\u001b[43m,\u001b[49m\n\u001b[1;32m    196\u001b[0m \u001b[43m    \u001b[49m\u001b[43mconfig\u001b[49m\u001b[43m,\u001b[49m\n\u001b[1;32m    197\u001b[0m \u001b[43m    \u001b[49m\u001b[43mrun_type\u001b[49m\u001b[38;5;241;43m=\u001b[39;49m\u001b[38;5;124;43m\"\u001b[39;49m\u001b[38;5;124;43mprompt\u001b[39;49m\u001b[38;5;124;43m\"\u001b[39;49m\u001b[43m,\u001b[49m\n\u001b[1;32m    198\u001b[0m \u001b[43m    \u001b[49m\u001b[43mserialized\u001b[49m\u001b[38;5;241;43m=\u001b[39;49m\u001b[38;5;28;43mself\u001b[39;49m\u001b[38;5;241;43m.\u001b[39;49m\u001b[43m_serialized\u001b[49m\u001b[43m,\u001b[49m\n\u001b[1;32m    199\u001b[0m \u001b[43m\u001b[49m\u001b[43m)\u001b[49m\n",
      "File \u001b[0;32m~/miniconda3/envs/pytopia_notebook/lib/python3.11/site-packages/langchain_core/runnables/base.py:1926\u001b[0m, in \u001b[0;36mRunnable._call_with_config\u001b[0;34m(self, func, input, config, run_type, serialized, **kwargs)\u001b[0m\n\u001b[1;32m   1922\u001b[0m     context \u001b[38;5;241m=\u001b[39m copy_context()\n\u001b[1;32m   1923\u001b[0m     context\u001b[38;5;241m.\u001b[39mrun(_set_config_context, child_config)\n\u001b[1;32m   1924\u001b[0m     output \u001b[38;5;241m=\u001b[39m cast(\n\u001b[1;32m   1925\u001b[0m         Output,\n\u001b[0;32m-> 1926\u001b[0m         \u001b[43mcontext\u001b[49m\u001b[38;5;241;43m.\u001b[39;49m\u001b[43mrun\u001b[49m\u001b[43m(\u001b[49m\n\u001b[1;32m   1927\u001b[0m \u001b[43m            \u001b[49m\u001b[43mcall_func_with_variable_args\u001b[49m\u001b[43m,\u001b[49m\u001b[43m  \u001b[49m\u001b[38;5;66;43;03m# type: ignore[arg-type]\u001b[39;49;00m\n\u001b[1;32m   1928\u001b[0m \u001b[43m            \u001b[49m\u001b[43mfunc\u001b[49m\u001b[43m,\u001b[49m\u001b[43m  \u001b[49m\u001b[38;5;66;43;03m# type: ignore[arg-type]\u001b[39;49;00m\n\u001b[1;32m   1929\u001b[0m \u001b[43m            \u001b[49m\u001b[38;5;28;43minput\u001b[39;49m\u001b[43m,\u001b[49m\u001b[43m  \u001b[49m\u001b[38;5;66;43;03m# type: ignore[arg-type]\u001b[39;49;00m\n\u001b[1;32m   1930\u001b[0m \u001b[43m            \u001b[49m\u001b[43mconfig\u001b[49m\u001b[43m,\u001b[49m\n\u001b[1;32m   1931\u001b[0m \u001b[43m            \u001b[49m\u001b[43mrun_manager\u001b[49m\u001b[43m,\u001b[49m\n\u001b[1;32m   1932\u001b[0m \u001b[43m            \u001b[49m\u001b[38;5;241;43m*\u001b[39;49m\u001b[38;5;241;43m*\u001b[39;49m\u001b[43mkwargs\u001b[49m\u001b[43m,\u001b[49m\n\u001b[1;32m   1933\u001b[0m \u001b[43m        \u001b[49m\u001b[43m)\u001b[49m,\n\u001b[1;32m   1934\u001b[0m     )\n\u001b[1;32m   1935\u001b[0m \u001b[38;5;28;01mexcept\u001b[39;00m \u001b[38;5;167;01mBaseException\u001b[39;00m \u001b[38;5;28;01mas\u001b[39;00m e:\n\u001b[1;32m   1936\u001b[0m     run_manager\u001b[38;5;241m.\u001b[39mon_chain_error(e)\n",
      "File \u001b[0;32m~/miniconda3/envs/pytopia_notebook/lib/python3.11/site-packages/langchain_core/runnables/config.py:394\u001b[0m, in \u001b[0;36mcall_func_with_variable_args\u001b[0;34m(func, input, config, run_manager, **kwargs)\u001b[0m\n\u001b[1;32m    392\u001b[0m \u001b[38;5;28;01mif\u001b[39;00m run_manager \u001b[38;5;129;01mis\u001b[39;00m \u001b[38;5;129;01mnot\u001b[39;00m \u001b[38;5;28;01mNone\u001b[39;00m \u001b[38;5;129;01mand\u001b[39;00m accepts_run_manager(func):\n\u001b[1;32m    393\u001b[0m     kwargs[\u001b[38;5;124m\"\u001b[39m\u001b[38;5;124mrun_manager\u001b[39m\u001b[38;5;124m\"\u001b[39m] \u001b[38;5;241m=\u001b[39m run_manager\n\u001b[0;32m--> 394\u001b[0m \u001b[38;5;28;01mreturn\u001b[39;00m \u001b[43mfunc\u001b[49m\u001b[43m(\u001b[49m\u001b[38;5;28;43minput\u001b[39;49m\u001b[43m,\u001b[49m\u001b[43m \u001b[49m\u001b[38;5;241;43m*\u001b[39;49m\u001b[38;5;241;43m*\u001b[39;49m\u001b[43mkwargs\u001b[49m\u001b[43m)\u001b[49m\n",
      "File \u001b[0;32m~/miniconda3/envs/pytopia_notebook/lib/python3.11/site-packages/langchain_core/prompts/base.py:167\u001b[0m, in \u001b[0;36mBasePromptTemplate._format_prompt_with_error_handling\u001b[0;34m(self, inner_input)\u001b[0m\n\u001b[1;32m    166\u001b[0m \u001b[38;5;28;01mdef\u001b[39;00m \u001b[38;5;21m_format_prompt_with_error_handling\u001b[39m(\u001b[38;5;28mself\u001b[39m, inner_input: \u001b[38;5;28mdict\u001b[39m) \u001b[38;5;241m-\u001b[39m\u001b[38;5;241m>\u001b[39m PromptValue:\n\u001b[0;32m--> 167\u001b[0m     _inner_input \u001b[38;5;241m=\u001b[39m \u001b[38;5;28;43mself\u001b[39;49m\u001b[38;5;241;43m.\u001b[39;49m\u001b[43m_validate_input\u001b[49m\u001b[43m(\u001b[49m\u001b[43minner_input\u001b[49m\u001b[43m)\u001b[49m\n\u001b[1;32m    168\u001b[0m     \u001b[38;5;28;01mreturn\u001b[39;00m \u001b[38;5;28mself\u001b[39m\u001b[38;5;241m.\u001b[39mformat_prompt(\u001b[38;5;241m*\u001b[39m\u001b[38;5;241m*\u001b[39m_inner_input)\n",
      "File \u001b[0;32m~/miniconda3/envs/pytopia_notebook/lib/python3.11/site-packages/langchain_core/prompts/base.py:163\u001b[0m, in \u001b[0;36mBasePromptTemplate._validate_input\u001b[0;34m(self, inner_input)\u001b[0m\n\u001b[1;32m    157\u001b[0m     example_key \u001b[38;5;241m=\u001b[39m missing\u001b[38;5;241m.\u001b[39mpop()\n\u001b[1;32m    158\u001b[0m     msg \u001b[38;5;241m+\u001b[39m\u001b[38;5;241m=\u001b[39m (\n\u001b[1;32m    159\u001b[0m         \u001b[38;5;124mf\u001b[39m\u001b[38;5;124m\"\u001b[39m\u001b[38;5;130;01m\\n\u001b[39;00m\u001b[38;5;124mNote: if you intended \u001b[39m\u001b[38;5;130;01m{{\u001b[39;00m\u001b[38;5;132;01m{\u001b[39;00mexample_key\u001b[38;5;132;01m}\u001b[39;00m\u001b[38;5;130;01m}}\u001b[39;00m\u001b[38;5;124m to be part of the string\u001b[39m\u001b[38;5;124m\"\u001b[39m\n\u001b[1;32m    160\u001b[0m         \u001b[38;5;124m\"\u001b[39m\u001b[38;5;124m and not a variable, please escape it with double curly braces like: \u001b[39m\u001b[38;5;124m\"\u001b[39m\n\u001b[1;32m    161\u001b[0m         \u001b[38;5;124mf\u001b[39m\u001b[38;5;124m\"\u001b[39m\u001b[38;5;124m'\u001b[39m\u001b[38;5;130;01m{{\u001b[39;00m\u001b[38;5;130;01m{{\u001b[39;00m\u001b[38;5;132;01m{\u001b[39;00mexample_key\u001b[38;5;132;01m}\u001b[39;00m\u001b[38;5;130;01m}}\u001b[39;00m\u001b[38;5;130;01m}}\u001b[39;00m\u001b[38;5;124m'\u001b[39m\u001b[38;5;124m.\u001b[39m\u001b[38;5;124m\"\u001b[39m\n\u001b[1;32m    162\u001b[0m     )\n\u001b[0;32m--> 163\u001b[0m     \u001b[38;5;28;01mraise\u001b[39;00m \u001b[38;5;167;01mKeyError\u001b[39;00m(msg)\n\u001b[1;32m    164\u001b[0m \u001b[38;5;28;01mreturn\u001b[39;00m inner_input\n",
      "\u001b[0;31mKeyError\u001b[0m: \"Input to ChatPromptTemplate is missing variables {'input'}.  Expected: ['context', 'input'] Received: ['context', 'question']\\nNote: if you intended {input} to be part of the string and not a variable, please escape it with double curly braces like: '{{input}}'.\""
     ]
    }
   ],
   "source": [
    "def format_docs(documents):\n",
    "    return \"\\n\\n\".join(doc.page_content for doc in documents)\n",
    "\n",
    "rag_chain = (\n",
    "    {\"context\": retriever | format_docs, \"question\": RunnablePassthrough()}\n",
    "    | prompt\n",
    "    | llm\n",
    "    | StrOutputParser()\n",
    ")\n",
    "\n",
    "result = rag_chain.invoke(\"i want Learn Argument Dictionary Unpacking?\")\n",
    "print(result)"
   ]
  },
  {
   "cell_type": "code",
   "execution_count": 27,
   "metadata": {},
   "outputs": [
    {
     "data": {
      "text/plain": [
       "[Document(metadata={}, page_content='Development Basics\". 4. Use argument dictionary unpacking to call `session_details` with details stored in a dictionary for the session \"Web Development Basics\". 5. Combine both packing and unpacking techniques to organize a session named \"Advanced Python\", which includes unpacking a list of topics and unpacking session details from a dictionary. *Expected Output:** ```sh Topics planned for this session: [\\'Python Basics\\', \\'Data Types Fundamentals\\', \\'Functions\\'] Session Details: Name: Python Development Basics Attendees: 40 Room: 105 Topics planned for this session: [\\'Object Oriented Programming\\', \\'Modules\\'] Session Details: Name: Advanced Python Attendees: 25 Room: 203 ``` This exercise will help you practice the use of variable-length argument handling in Python, including both packing and unpacking techniques, in the context of a practical scenario. By completing these tasks, you will gain a deeper understanding of how to utilize these features to make your functions more flexible'),\n",
       " Document(metadata={}, page_content='variables. 4. **Unpacking Dictionaries**: Given a dictionary `student`, with keys `name`, `age`, and `email`, unpack the values of this dictionary into variables `student_name`, `student_age`, and `student_email`. Print the variables. 5. **Extended Unpacking with Lists**: You have a list of numbers `[1, 2, 3, 4, 5, 6, 7, 8]`. Use extended unpacking to get the first two numbers into variables `first_num` and `second_num`, and the rest of the numbers into a list called `remaining_numbers`. 6. **Bonus: Swapping Values**: Without using a temporary variable, swap the values of two variables `a` and `b` using packing and unpacking. *Sample Data:** # For Task 1 name = \"Alice\" age = 17 grade = \"A\" subject = \"Mathematics\" # For Task 2 coordinates = (4, 5, 6) # For Task 4 student = { \"name\": \"Bob\", \"age\": 20, \"email\": \"bob@example.com\" } *Expected Output:** ```bash # For Task 2 x: 4, y: 5, z: 6 # For Task 3 Math score: 72, Science score: 85, English score: 90 # For Task 4 Student Name: Bob,'),\n",
       " Document(metadata={}, page_content=\"and dictionaries, you will gain hands-on experience with these methods and understand how they can be used to simplify data handling. *Tasks:** 1. **Packing into Tuples**: Create a tuple called `student_info` by packing the following individual variables: `name`, `age`, `grade`, and `subject`, which hold a student's name, age, grade (as a letter), and favorite subject, respectively. 2. **Unpacking from Tuples**: Given a tuple `coordinates` with three elements representing x, y, and z coordinates, unpack these values into separate variables called `x`, `y`, and `z`. Print the variables. 3. **Unpacking from Lists**: Suppose you have a list of scores `[72, 85, 90]`. Unpack the scores into variables `math_score`, `science_score`, and `english_score`, respectively. Then, print these variables. 4. **Unpacking Dictionaries**: Given a dictionary `student`, with keys `name`, `age`, and `email`, unpack the values of this dictionary into variables `student_name`, `student_age`, and\"),\n",
       " Document(metadata={}, page_content='and unpacking techniques, in the context of a practical scenario. By completing these tasks, you will gain a deeper understanding of how to utilize these features to make your functions more flexible and adaptable to various inputs. and github_link: https://github.com/pytopia/Python-Programming/blob/main/Lectures/07%20Functions/05%20Variable-Length%20Argument.ipynb')]"
      ]
     },
     "execution_count": 27,
     "metadata": {},
     "output_type": "execute_result"
    }
   ],
   "source": [
    "retriever.invoke(\"Argument Dictionary Unpacking?\")"
   ]
  },
  {
   "cell_type": "markdown",
   "metadata": {},
   "source": [
    "Pytopia is a data science community that helps students get internships and jobs in the field of data science.\n",
    "Pytopia have GitHub Repository:\n",
    "📍 [@pytopia] (https://github.com/orgs/pytopia/repositories)\n",
    "\n",
    "List of pytopia Machine Learning Bootcamp courses:\n",
    "- [Python-Programming](https://github.com/pytopia/Python-Programming)\n",
    "\n"
   ]
  },
  {
   "cell_type": "markdown",
   "metadata": {},
   "source": [
    "Prompt:\n",
    "\"Given the JSON data about a lecture on variable-length arguments in Python, please extract and summarize the following information:\n",
    "The name of the lecture.\n",
    "The key topics covered in the table of contents.\n",
    "The practice exercise details, including the task and expected output.\n",
    "The link to the GitHub repository for further reference.\n",
    "Please format the response clearly and concisely.\"\n",
    "\n",
    "\n",
    "Give me the detailed instructions for the \"Practice Exercise: Organizing a Coding Workshop\" from the provided JSON data. Include the task description and expected output.  If there are multiple instances of \"Practice Exercise: Organizing a Coding Workshop\", combine the instructions from all instances.\n",
    "\n",
    "\n",
    "\n",
    "\n",
    "Prompt:\n",
    "\"Provide information about the lecture on Variable-Length Argument in Python programming. What are the main topics covered in the lecture? What practice exercises are included, and what is the expected output of the exercise? Also, provide the GitHub link to the lecture notebook.\"\n",
    "Expected Response:\n",
    "The response should include the following information:\n",
    "Main topics covered in the lecture (from the \"table_of_content\" field)\n",
    "Practice exercises included in the lecture (from the \"practice_exercises\" field)\n",
    "Expected output of the exercise (from the \"practice_exercises\" field)\n",
    "GitHub link to the lecture notebook (from the \"github_link\" field)"
   ]
  },
  {
   "cell_type": "markdown",
   "metadata": {},
   "source": [
    "You are provided with details of a Jupyter Notebook from the Pytopia Python Programming GitHub repository. The task is to extract relevant data based on the following JSON structure:\n",
    "\n",
    "Provide information about the lecture on {User Query} in Python programming. What are the main topics covered in the lecture? What practice exercises are included, and what is the expected output of the exercise? Also, provide the GitHub link to the lecture notebook.\n",
    "\n",
    "Expected Response:\n",
    "The response should include the following information:\n",
    "Main topics covered in the lecture (from the \"table_of_content\" field)\n",
    "Practice exercises included in the lecture (from the \"practice_exercises\" field)\n",
    "Expected output of the exercise (from the \"practice_exercises\" field)\n",
    "GitHub link to the lecture notebook (from the \"github_link\" field)\n",
    "\n",
    "Use this structure to assist knowledge seekers in accessing specific lecture content and related exercises efficiently."
   ]
  },
  {
   "cell_type": "code",
   "execution_count": null,
   "metadata": {},
   "outputs": [],
   "source": []
  }
 ],
 "metadata": {
  "kernelspec": {
   "display_name": "pytopia_notebook",
   "language": "python",
   "name": "python3"
  },
  "language_info": {
   "codemirror_mode": {
    "name": "ipython",
    "version": 3
   },
   "file_extension": ".py",
   "mimetype": "text/x-python",
   "name": "python",
   "nbconvert_exporter": "python",
   "pygments_lexer": "ipython3",
   "version": "3.11.10"
  }
 },
 "nbformat": 4,
 "nbformat_minor": 2
}
