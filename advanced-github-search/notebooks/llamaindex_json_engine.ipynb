{
 "cells": [
  {
   "cell_type": "code",
   "execution_count": 2,
   "metadata": {},
   "outputs": [],
   "source": [
    "import json\n",
    "\n",
    "def read_json_file(file_path):\n",
    "    \"\"\"\n",
    "    Reads JSON data from a file and returns it as a Python dictionary.\n",
    "\n",
    "    :param file_path: Path to the JSON file.\n",
    "    :return: Parsed JSON data as a dictionary or list.\n",
    "    \"\"\"\n",
    "    try:\n",
    "        with open(file_path, 'r', encoding='utf-8') as json_file:\n",
    "            data = json.load(json_file)\n",
    "            return data\n",
    "    except FileNotFoundError:\n",
    "        print(f\"Error: The file {file_path} was not found.\")\n",
    "    except json.JSONDecodeError:\n",
    "        print(f\"Error: The file {file_path} contains invalid JSON.\")\n",
    "    except Exception as e:\n",
    "        print(f\"An unexpected error occurred: {e}\")"
   ]
  },
  {
   "cell_type": "code",
   "execution_count": 3,
   "metadata": {},
   "outputs": [],
   "source": [
    "json_value = read_json_file(\"notebooks_summary.json\")"
   ]
  },
  {
   "cell_type": "code",
   "execution_count": 1,
   "metadata": {},
   "outputs": [],
   "source": [
    "json_schema = {\n",
    "  \"$schema\": \"http://json-schema.org/draft-07/schema#\",\n",
    "  \"type\": \"array\",\n",
    "  \"items\": {\n",
    "    \"type\": \"object\",\n",
    "    \"properties\": {\n",
    "      \"local_path\": {\n",
    "        \"type\": \"string\"\n",
    "      },\n",
    "      \"name\": {\n",
    "        \"type\": \"string\"\n",
    "      },\n",
    "      \"table_of_content\": {\n",
    "        \"type\": \"array\",\n",
    "        \"items\": {\n",
    "          \"type\": \"string\"\n",
    "        }\n",
    "      },\n",
    "      \"practice_exercises\": {\n",
    "        \"type\": \"array\",\n",
    "        \"items\": {\n",
    "          \"type\": \"string\"\n",
    "        }\n",
    "      },\n",
    "      \"github_link\": {\n",
    "        \"type\": \"string\",\n",
    "        \"format\": \"uri\"\n",
    "      }\n",
    "    },\n",
    "    \"required\": [\"local_path\", \"name\", \"github_link\"],\n",
    "    \"additionalProperties\": False\n",
    "  }\n",
    "}"
   ]
  },
  {
   "cell_type": "code",
   "execution_count": 5,
   "metadata": {},
   "outputs": [],
   "source": [
    "from llama_index.llms.openai import OpenAI\n",
    "from llama_index.core.indices.struct_store import JSONQueryEngine\n",
    "\n",
    "llm = OpenAI(model=\"gpt-4\")\n",
    "\n",
    "nl_query_engine = JSONQueryEngine(\n",
    "    json_value=json_value,\n",
    "    json_schema=json_schema,\n",
    "    llm=llm,\n",
    ")\n",
    "raw_query_engine = JSONQueryEngine(\n",
    "    json_value=json_value,\n",
    "    json_schema=json_schema,\n",
    "    llm=llm,\n",
    "    synthesize_response=False,\n",
    ")"
   ]
  },
  {
   "cell_type": "code",
   "execution_count": 21,
   "metadata": {},
   "outputs": [],
   "source": [
    "nl_response = nl_query_engine.query(\n",
    "    \"github_link for Argument Dictionary Unpacking\",\n",
    ")\n",
    "raw_response = raw_query_engine.query(\n",
    "    \"github_link for Argument Dictionary Unpacking\",\n",
    ")"
   ]
  },
  {
   "cell_type": "code",
   "execution_count": 22,
   "metadata": {},
   "outputs": [],
   "source": [
    "from IPython.display import Markdown, display"
   ]
  },
  {
   "cell_type": "code",
   "execution_count": 23,
   "metadata": {},
   "outputs": [
    {
     "data": {
      "text/markdown": [
       "<h1>Natural language Response</h1><br><b>The information provided does not include a github_link for Argument Dictionary Unpacking.</b>"
      ],
      "text/plain": [
       "<IPython.core.display.Markdown object>"
      ]
     },
     "metadata": {},
     "output_type": "display_data"
    }
   ],
   "source": [
    "\n",
    "display(Markdown(f\"<h1>Natural language Response</h1><br><b>{nl_response}</b>\"))\n"
   ]
  },
  {
   "cell_type": "code",
   "execution_count": 24,
   "metadata": {},
   "outputs": [
    {
     "data": {
      "text/markdown": [
       "<h1>Raw JSON Response</h1><br><b>{}</b>"
      ],
      "text/plain": [
       "<IPython.core.display.Markdown object>"
      ]
     },
     "metadata": {},
     "output_type": "display_data"
    }
   ],
   "source": [
    "display(Markdown(f\"<h1>Raw JSON Response</h1><br><b>{raw_response}</b>\"))"
   ]
  },
  {
   "cell_type": "code",
   "execution_count": 7,
   "metadata": {},
   "outputs": [
    {
     "name": "stdout",
     "output_type": "stream",
     "text": [
      "Requirement already satisfied: llama-index-llms-openai in /home/sina/miniconda3/envs/pytopia_notebook/lib/python3.11/site-packages (0.2.11)\n",
      "Requirement already satisfied: llama-index-core<0.12.0,>=0.11.7 in /home/sina/miniconda3/envs/pytopia_notebook/lib/python3.11/site-packages (from llama-index-llms-openai) (0.11.16)\n",
      "Requirement already satisfied: openai<2.0.0,>=1.40.0 in /home/sina/miniconda3/envs/pytopia_notebook/lib/python3.11/site-packages (from llama-index-llms-openai) (1.51.0)\n",
      "Requirement already satisfied: PyYAML>=6.0.1 in /home/sina/miniconda3/envs/pytopia_notebook/lib/python3.11/site-packages (from llama-index-core<0.12.0,>=0.11.7->llama-index-llms-openai) (6.0.2)\n",
      "Requirement already satisfied: SQLAlchemy>=1.4.49 in /home/sina/miniconda3/envs/pytopia_notebook/lib/python3.11/site-packages (from SQLAlchemy[asyncio]>=1.4.49->llama-index-core<0.12.0,>=0.11.7->llama-index-llms-openai) (2.0.35)\n",
      "Requirement already satisfied: aiohttp<4.0.0,>=3.8.6 in /home/sina/miniconda3/envs/pytopia_notebook/lib/python3.11/site-packages (from llama-index-core<0.12.0,>=0.11.7->llama-index-llms-openai) (3.10.9)\n",
      "Requirement already satisfied: dataclasses-json in /home/sina/miniconda3/envs/pytopia_notebook/lib/python3.11/site-packages (from llama-index-core<0.12.0,>=0.11.7->llama-index-llms-openai) (0.6.7)\n",
      "Requirement already satisfied: deprecated>=1.2.9.3 in /home/sina/miniconda3/envs/pytopia_notebook/lib/python3.11/site-packages (from llama-index-core<0.12.0,>=0.11.7->llama-index-llms-openai) (1.2.14)\n",
      "Requirement already satisfied: dirtyjson<2.0.0,>=1.0.8 in /home/sina/miniconda3/envs/pytopia_notebook/lib/python3.11/site-packages (from llama-index-core<0.12.0,>=0.11.7->llama-index-llms-openai) (1.0.8)\n",
      "Requirement already satisfied: fsspec>=2023.5.0 in /home/sina/miniconda3/envs/pytopia_notebook/lib/python3.11/site-packages (from llama-index-core<0.12.0,>=0.11.7->llama-index-llms-openai) (2024.9.0)\n",
      "Requirement already satisfied: httpx in /home/sina/miniconda3/envs/pytopia_notebook/lib/python3.11/site-packages (from llama-index-core<0.12.0,>=0.11.7->llama-index-llms-openai) (0.27.2)\n",
      "Requirement already satisfied: nest-asyncio<2.0.0,>=1.5.8 in /home/sina/miniconda3/envs/pytopia_notebook/lib/python3.11/site-packages (from llama-index-core<0.12.0,>=0.11.7->llama-index-llms-openai) (1.6.0)\n",
      "Requirement already satisfied: networkx>=3.0 in /home/sina/miniconda3/envs/pytopia_notebook/lib/python3.11/site-packages (from llama-index-core<0.12.0,>=0.11.7->llama-index-llms-openai) (3.3)\n",
      "Requirement already satisfied: nltk>3.8.1 in /home/sina/miniconda3/envs/pytopia_notebook/lib/python3.11/site-packages (from llama-index-core<0.12.0,>=0.11.7->llama-index-llms-openai) (3.9.1)\n",
      "Requirement already satisfied: numpy<2.0.0 in /home/sina/miniconda3/envs/pytopia_notebook/lib/python3.11/site-packages (from llama-index-core<0.12.0,>=0.11.7->llama-index-llms-openai) (1.26.4)\n",
      "Requirement already satisfied: pillow>=9.0.0 in /home/sina/miniconda3/envs/pytopia_notebook/lib/python3.11/site-packages (from llama-index-core<0.12.0,>=0.11.7->llama-index-llms-openai) (10.4.0)\n",
      "Requirement already satisfied: pydantic<3.0.0,>=2.7.0 in /home/sina/miniconda3/envs/pytopia_notebook/lib/python3.11/site-packages (from llama-index-core<0.12.0,>=0.11.7->llama-index-llms-openai) (2.9.2)\n",
      "Requirement already satisfied: requests>=2.31.0 in /home/sina/miniconda3/envs/pytopia_notebook/lib/python3.11/site-packages (from llama-index-core<0.12.0,>=0.11.7->llama-index-llms-openai) (2.32.3)\n",
      "Requirement already satisfied: tenacity!=8.4.0,<9.0.0,>=8.2.0 in /home/sina/miniconda3/envs/pytopia_notebook/lib/python3.11/site-packages (from llama-index-core<0.12.0,>=0.11.7->llama-index-llms-openai) (8.5.0)\n",
      "Requirement already satisfied: tiktoken>=0.3.3 in /home/sina/miniconda3/envs/pytopia_notebook/lib/python3.11/site-packages (from llama-index-core<0.12.0,>=0.11.7->llama-index-llms-openai) (0.8.0)\n",
      "Requirement already satisfied: tqdm<5.0.0,>=4.66.1 in /home/sina/miniconda3/envs/pytopia_notebook/lib/python3.11/site-packages (from llama-index-core<0.12.0,>=0.11.7->llama-index-llms-openai) (4.66.5)\n",
      "Requirement already satisfied: typing-extensions>=4.5.0 in /home/sina/miniconda3/envs/pytopia_notebook/lib/python3.11/site-packages (from llama-index-core<0.12.0,>=0.11.7->llama-index-llms-openai) (4.12.2)\n",
      "Requirement already satisfied: typing-inspect>=0.8.0 in /home/sina/miniconda3/envs/pytopia_notebook/lib/python3.11/site-packages (from llama-index-core<0.12.0,>=0.11.7->llama-index-llms-openai) (0.9.0)\n",
      "Requirement already satisfied: wrapt in /home/sina/miniconda3/envs/pytopia_notebook/lib/python3.11/site-packages (from llama-index-core<0.12.0,>=0.11.7->llama-index-llms-openai) (1.16.0)\n",
      "Requirement already satisfied: anyio<5,>=3.5.0 in /home/sina/miniconda3/envs/pytopia_notebook/lib/python3.11/site-packages (from openai<2.0.0,>=1.40.0->llama-index-llms-openai) (4.6.0)\n",
      "Requirement already satisfied: distro<2,>=1.7.0 in /home/sina/miniconda3/envs/pytopia_notebook/lib/python3.11/site-packages (from openai<2.0.0,>=1.40.0->llama-index-llms-openai) (1.9.0)\n",
      "Requirement already satisfied: jiter<1,>=0.4.0 in /home/sina/miniconda3/envs/pytopia_notebook/lib/python3.11/site-packages (from openai<2.0.0,>=1.40.0->llama-index-llms-openai) (0.5.0)\n",
      "Requirement already satisfied: sniffio in /home/sina/miniconda3/envs/pytopia_notebook/lib/python3.11/site-packages (from openai<2.0.0,>=1.40.0->llama-index-llms-openai) (1.3.1)\n",
      "Requirement already satisfied: aiohappyeyeballs>=2.3.0 in /home/sina/miniconda3/envs/pytopia_notebook/lib/python3.11/site-packages (from aiohttp<4.0.0,>=3.8.6->llama-index-core<0.12.0,>=0.11.7->llama-index-llms-openai) (2.4.3)\n",
      "Requirement already satisfied: aiosignal>=1.1.2 in /home/sina/miniconda3/envs/pytopia_notebook/lib/python3.11/site-packages (from aiohttp<4.0.0,>=3.8.6->llama-index-core<0.12.0,>=0.11.7->llama-index-llms-openai) (1.3.1)\n",
      "Requirement already satisfied: attrs>=17.3.0 in /home/sina/miniconda3/envs/pytopia_notebook/lib/python3.11/site-packages (from aiohttp<4.0.0,>=3.8.6->llama-index-core<0.12.0,>=0.11.7->llama-index-llms-openai) (24.2.0)\n",
      "Requirement already satisfied: frozenlist>=1.1.1 in /home/sina/miniconda3/envs/pytopia_notebook/lib/python3.11/site-packages (from aiohttp<4.0.0,>=3.8.6->llama-index-core<0.12.0,>=0.11.7->llama-index-llms-openai) (1.4.1)\n",
      "Requirement already satisfied: multidict<7.0,>=4.5 in /home/sina/miniconda3/envs/pytopia_notebook/lib/python3.11/site-packages (from aiohttp<4.0.0,>=3.8.6->llama-index-core<0.12.0,>=0.11.7->llama-index-llms-openai) (6.1.0)\n",
      "Requirement already satisfied: yarl<2.0,>=1.12.0 in /home/sina/miniconda3/envs/pytopia_notebook/lib/python3.11/site-packages (from aiohttp<4.0.0,>=3.8.6->llama-index-core<0.12.0,>=0.11.7->llama-index-llms-openai) (1.13.1)\n",
      "Requirement already satisfied: idna>=2.8 in /home/sina/miniconda3/envs/pytopia_notebook/lib/python3.11/site-packages (from anyio<5,>=3.5.0->openai<2.0.0,>=1.40.0->llama-index-llms-openai) (3.10)\n",
      "Requirement already satisfied: certifi in /home/sina/miniconda3/envs/pytopia_notebook/lib/python3.11/site-packages (from httpx->llama-index-core<0.12.0,>=0.11.7->llama-index-llms-openai) (2024.8.30)\n",
      "Requirement already satisfied: httpcore==1.* in /home/sina/miniconda3/envs/pytopia_notebook/lib/python3.11/site-packages (from httpx->llama-index-core<0.12.0,>=0.11.7->llama-index-llms-openai) (1.0.6)\n",
      "Requirement already satisfied: h11<0.15,>=0.13 in /home/sina/miniconda3/envs/pytopia_notebook/lib/python3.11/site-packages (from httpcore==1.*->httpx->llama-index-core<0.12.0,>=0.11.7->llama-index-llms-openai) (0.14.0)\n",
      "Requirement already satisfied: click in /home/sina/miniconda3/envs/pytopia_notebook/lib/python3.11/site-packages (from nltk>3.8.1->llama-index-core<0.12.0,>=0.11.7->llama-index-llms-openai) (8.1.7)\n",
      "Requirement already satisfied: joblib in /home/sina/miniconda3/envs/pytopia_notebook/lib/python3.11/site-packages (from nltk>3.8.1->llama-index-core<0.12.0,>=0.11.7->llama-index-llms-openai) (1.4.2)\n",
      "Requirement already satisfied: regex>=2021.8.3 in /home/sina/miniconda3/envs/pytopia_notebook/lib/python3.11/site-packages (from nltk>3.8.1->llama-index-core<0.12.0,>=0.11.7->llama-index-llms-openai) (2024.9.11)\n",
      "Requirement already satisfied: annotated-types>=0.6.0 in /home/sina/miniconda3/envs/pytopia_notebook/lib/python3.11/site-packages (from pydantic<3.0.0,>=2.7.0->llama-index-core<0.12.0,>=0.11.7->llama-index-llms-openai) (0.7.0)\n",
      "Requirement already satisfied: pydantic-core==2.23.4 in /home/sina/miniconda3/envs/pytopia_notebook/lib/python3.11/site-packages (from pydantic<3.0.0,>=2.7.0->llama-index-core<0.12.0,>=0.11.7->llama-index-llms-openai) (2.23.4)\n",
      "Requirement already satisfied: charset-normalizer<4,>=2 in /home/sina/miniconda3/envs/pytopia_notebook/lib/python3.11/site-packages (from requests>=2.31.0->llama-index-core<0.12.0,>=0.11.7->llama-index-llms-openai) (3.3.2)\n",
      "Requirement already satisfied: urllib3<3,>=1.21.1 in /home/sina/miniconda3/envs/pytopia_notebook/lib/python3.11/site-packages (from requests>=2.31.0->llama-index-core<0.12.0,>=0.11.7->llama-index-llms-openai) (2.2.3)\n",
      "Requirement already satisfied: greenlet!=0.4.17 in /home/sina/miniconda3/envs/pytopia_notebook/lib/python3.11/site-packages (from SQLAlchemy>=1.4.49->SQLAlchemy[asyncio]>=1.4.49->llama-index-core<0.12.0,>=0.11.7->llama-index-llms-openai) (3.1.1)\n",
      "Requirement already satisfied: mypy-extensions>=0.3.0 in /home/sina/miniconda3/envs/pytopia_notebook/lib/python3.11/site-packages (from typing-inspect>=0.8.0->llama-index-core<0.12.0,>=0.11.7->llama-index-llms-openai) (1.0.0)\n",
      "Requirement already satisfied: marshmallow<4.0.0,>=3.18.0 in /home/sina/miniconda3/envs/pytopia_notebook/lib/python3.11/site-packages (from dataclasses-json->llama-index-core<0.12.0,>=0.11.7->llama-index-llms-openai) (3.22.0)\n",
      "Requirement already satisfied: packaging>=17.0 in /home/sina/miniconda3/envs/pytopia_notebook/lib/python3.11/site-packages (from marshmallow<4.0.0,>=3.18.0->dataclasses-json->llama-index-core<0.12.0,>=0.11.7->llama-index-llms-openai) (24.1)\n",
      "Note: you may need to restart the kernel to use updated packages.\n"
     ]
    }
   ],
   "source": [
    "pip install llama-index-llms-openai"
   ]
  },
  {
   "cell_type": "code",
   "execution_count": 8,
   "metadata": {},
   "outputs": [
    {
     "name": "stdout",
     "output_type": "stream",
     "text": [
      "Requirement already satisfied: llama-index in /home/sina/miniconda3/envs/pytopia_notebook/lib/python3.11/site-packages (0.11.16)\n",
      "Requirement already satisfied: llama-index-agent-openai<0.4.0,>=0.3.4 in /home/sina/miniconda3/envs/pytopia_notebook/lib/python3.11/site-packages (from llama-index) (0.3.4)\n",
      "Requirement already satisfied: llama-index-cli<0.4.0,>=0.3.1 in /home/sina/miniconda3/envs/pytopia_notebook/lib/python3.11/site-packages (from llama-index) (0.3.1)\n",
      "Requirement already satisfied: llama-index-core<0.12.0,>=0.11.16 in /home/sina/miniconda3/envs/pytopia_notebook/lib/python3.11/site-packages (from llama-index) (0.11.16)\n",
      "Requirement already satisfied: llama-index-embeddings-openai<0.3.0,>=0.2.4 in /home/sina/miniconda3/envs/pytopia_notebook/lib/python3.11/site-packages (from llama-index) (0.2.5)\n",
      "Requirement already satisfied: llama-index-indices-managed-llama-cloud>=0.3.0 in /home/sina/miniconda3/envs/pytopia_notebook/lib/python3.11/site-packages (from llama-index) (0.4.0)\n",
      "Requirement already satisfied: llama-index-legacy<0.10.0,>=0.9.48 in /home/sina/miniconda3/envs/pytopia_notebook/lib/python3.11/site-packages (from llama-index) (0.9.48.post3)\n",
      "Requirement already satisfied: llama-index-llms-openai<0.3.0,>=0.2.10 in /home/sina/miniconda3/envs/pytopia_notebook/lib/python3.11/site-packages (from llama-index) (0.2.11)\n",
      "Requirement already satisfied: llama-index-multi-modal-llms-openai<0.3.0,>=0.2.0 in /home/sina/miniconda3/envs/pytopia_notebook/lib/python3.11/site-packages (from llama-index) (0.2.2)\n",
      "Requirement already satisfied: llama-index-program-openai<0.3.0,>=0.2.0 in /home/sina/miniconda3/envs/pytopia_notebook/lib/python3.11/site-packages (from llama-index) (0.2.0)\n",
      "Requirement already satisfied: llama-index-question-gen-openai<0.3.0,>=0.2.0 in /home/sina/miniconda3/envs/pytopia_notebook/lib/python3.11/site-packages (from llama-index) (0.2.0)\n",
      "Requirement already satisfied: llama-index-readers-file<0.3.0,>=0.2.0 in /home/sina/miniconda3/envs/pytopia_notebook/lib/python3.11/site-packages (from llama-index) (0.2.2)\n",
      "Requirement already satisfied: llama-index-readers-llama-parse>=0.3.0 in /home/sina/miniconda3/envs/pytopia_notebook/lib/python3.11/site-packages (from llama-index) (0.3.0)\n",
      "Requirement already satisfied: nltk>3.8.1 in /home/sina/miniconda3/envs/pytopia_notebook/lib/python3.11/site-packages (from llama-index) (3.9.1)\n",
      "Requirement already satisfied: openai>=1.14.0 in /home/sina/miniconda3/envs/pytopia_notebook/lib/python3.11/site-packages (from llama-index-agent-openai<0.4.0,>=0.3.4->llama-index) (1.51.0)\n",
      "Requirement already satisfied: PyYAML>=6.0.1 in /home/sina/miniconda3/envs/pytopia_notebook/lib/python3.11/site-packages (from llama-index-core<0.12.0,>=0.11.16->llama-index) (6.0.2)\n",
      "Requirement already satisfied: SQLAlchemy>=1.4.49 in /home/sina/miniconda3/envs/pytopia_notebook/lib/python3.11/site-packages (from SQLAlchemy[asyncio]>=1.4.49->llama-index-core<0.12.0,>=0.11.16->llama-index) (2.0.35)\n",
      "Requirement already satisfied: aiohttp<4.0.0,>=3.8.6 in /home/sina/miniconda3/envs/pytopia_notebook/lib/python3.11/site-packages (from llama-index-core<0.12.0,>=0.11.16->llama-index) (3.10.9)\n",
      "Requirement already satisfied: dataclasses-json in /home/sina/miniconda3/envs/pytopia_notebook/lib/python3.11/site-packages (from llama-index-core<0.12.0,>=0.11.16->llama-index) (0.6.7)\n",
      "Requirement already satisfied: deprecated>=1.2.9.3 in /home/sina/miniconda3/envs/pytopia_notebook/lib/python3.11/site-packages (from llama-index-core<0.12.0,>=0.11.16->llama-index) (1.2.14)\n",
      "Requirement already satisfied: dirtyjson<2.0.0,>=1.0.8 in /home/sina/miniconda3/envs/pytopia_notebook/lib/python3.11/site-packages (from llama-index-core<0.12.0,>=0.11.16->llama-index) (1.0.8)\n",
      "Requirement already satisfied: fsspec>=2023.5.0 in /home/sina/miniconda3/envs/pytopia_notebook/lib/python3.11/site-packages (from llama-index-core<0.12.0,>=0.11.16->llama-index) (2024.9.0)\n",
      "Requirement already satisfied: httpx in /home/sina/miniconda3/envs/pytopia_notebook/lib/python3.11/site-packages (from llama-index-core<0.12.0,>=0.11.16->llama-index) (0.27.2)\n",
      "Requirement already satisfied: nest-asyncio<2.0.0,>=1.5.8 in /home/sina/miniconda3/envs/pytopia_notebook/lib/python3.11/site-packages (from llama-index-core<0.12.0,>=0.11.16->llama-index) (1.6.0)\n",
      "Requirement already satisfied: networkx>=3.0 in /home/sina/miniconda3/envs/pytopia_notebook/lib/python3.11/site-packages (from llama-index-core<0.12.0,>=0.11.16->llama-index) (3.3)\n",
      "Requirement already satisfied: numpy<2.0.0 in /home/sina/miniconda3/envs/pytopia_notebook/lib/python3.11/site-packages (from llama-index-core<0.12.0,>=0.11.16->llama-index) (1.26.4)\n",
      "Requirement already satisfied: pillow>=9.0.0 in /home/sina/miniconda3/envs/pytopia_notebook/lib/python3.11/site-packages (from llama-index-core<0.12.0,>=0.11.16->llama-index) (10.4.0)\n",
      "Requirement already satisfied: pydantic<3.0.0,>=2.7.0 in /home/sina/miniconda3/envs/pytopia_notebook/lib/python3.11/site-packages (from llama-index-core<0.12.0,>=0.11.16->llama-index) (2.9.2)\n",
      "Requirement already satisfied: requests>=2.31.0 in /home/sina/miniconda3/envs/pytopia_notebook/lib/python3.11/site-packages (from llama-index-core<0.12.0,>=0.11.16->llama-index) (2.32.3)\n",
      "Requirement already satisfied: tenacity!=8.4.0,<9.0.0,>=8.2.0 in /home/sina/miniconda3/envs/pytopia_notebook/lib/python3.11/site-packages (from llama-index-core<0.12.0,>=0.11.16->llama-index) (8.5.0)\n",
      "Requirement already satisfied: tiktoken>=0.3.3 in /home/sina/miniconda3/envs/pytopia_notebook/lib/python3.11/site-packages (from llama-index-core<0.12.0,>=0.11.16->llama-index) (0.8.0)\n",
      "Requirement already satisfied: tqdm<5.0.0,>=4.66.1 in /home/sina/miniconda3/envs/pytopia_notebook/lib/python3.11/site-packages (from llama-index-core<0.12.0,>=0.11.16->llama-index) (4.66.5)\n",
      "Requirement already satisfied: typing-extensions>=4.5.0 in /home/sina/miniconda3/envs/pytopia_notebook/lib/python3.11/site-packages (from llama-index-core<0.12.0,>=0.11.16->llama-index) (4.12.2)\n",
      "Requirement already satisfied: typing-inspect>=0.8.0 in /home/sina/miniconda3/envs/pytopia_notebook/lib/python3.11/site-packages (from llama-index-core<0.12.0,>=0.11.16->llama-index) (0.9.0)\n",
      "Requirement already satisfied: wrapt in /home/sina/miniconda3/envs/pytopia_notebook/lib/python3.11/site-packages (from llama-index-core<0.12.0,>=0.11.16->llama-index) (1.16.0)\n",
      "Requirement already satisfied: llama-cloud>=0.0.11 in /home/sina/miniconda3/envs/pytopia_notebook/lib/python3.11/site-packages (from llama-index-indices-managed-llama-cloud>=0.3.0->llama-index) (0.1.2)\n",
      "Requirement already satisfied: pandas in /home/sina/miniconda3/envs/pytopia_notebook/lib/python3.11/site-packages (from llama-index-legacy<0.10.0,>=0.9.48->llama-index) (2.2.3)\n",
      "Requirement already satisfied: beautifulsoup4<5.0.0,>=4.12.3 in /home/sina/miniconda3/envs/pytopia_notebook/lib/python3.11/site-packages (from llama-index-readers-file<0.3.0,>=0.2.0->llama-index) (4.12.3)\n",
      "Requirement already satisfied: pypdf<5.0.0,>=4.0.1 in /home/sina/miniconda3/envs/pytopia_notebook/lib/python3.11/site-packages (from llama-index-readers-file<0.3.0,>=0.2.0->llama-index) (4.3.1)\n",
      "Requirement already satisfied: striprtf<0.0.27,>=0.0.26 in /home/sina/miniconda3/envs/pytopia_notebook/lib/python3.11/site-packages (from llama-index-readers-file<0.3.0,>=0.2.0->llama-index) (0.0.26)\n",
      "Requirement already satisfied: llama-parse>=0.5.0 in /home/sina/miniconda3/envs/pytopia_notebook/lib/python3.11/site-packages (from llama-index-readers-llama-parse>=0.3.0->llama-index) (0.5.7)\n",
      "Requirement already satisfied: click in /home/sina/miniconda3/envs/pytopia_notebook/lib/python3.11/site-packages (from nltk>3.8.1->llama-index) (8.1.7)\n",
      "Requirement already satisfied: joblib in /home/sina/miniconda3/envs/pytopia_notebook/lib/python3.11/site-packages (from nltk>3.8.1->llama-index) (1.4.2)\n",
      "Requirement already satisfied: regex>=2021.8.3 in /home/sina/miniconda3/envs/pytopia_notebook/lib/python3.11/site-packages (from nltk>3.8.1->llama-index) (2024.9.11)\n",
      "Requirement already satisfied: aiohappyeyeballs>=2.3.0 in /home/sina/miniconda3/envs/pytopia_notebook/lib/python3.11/site-packages (from aiohttp<4.0.0,>=3.8.6->llama-index-core<0.12.0,>=0.11.16->llama-index) (2.4.3)\n",
      "Requirement already satisfied: aiosignal>=1.1.2 in /home/sina/miniconda3/envs/pytopia_notebook/lib/python3.11/site-packages (from aiohttp<4.0.0,>=3.8.6->llama-index-core<0.12.0,>=0.11.16->llama-index) (1.3.1)\n",
      "Requirement already satisfied: attrs>=17.3.0 in /home/sina/miniconda3/envs/pytopia_notebook/lib/python3.11/site-packages (from aiohttp<4.0.0,>=3.8.6->llama-index-core<0.12.0,>=0.11.16->llama-index) (24.2.0)\n",
      "Requirement already satisfied: frozenlist>=1.1.1 in /home/sina/miniconda3/envs/pytopia_notebook/lib/python3.11/site-packages (from aiohttp<4.0.0,>=3.8.6->llama-index-core<0.12.0,>=0.11.16->llama-index) (1.4.1)\n",
      "Requirement already satisfied: multidict<7.0,>=4.5 in /home/sina/miniconda3/envs/pytopia_notebook/lib/python3.11/site-packages (from aiohttp<4.0.0,>=3.8.6->llama-index-core<0.12.0,>=0.11.16->llama-index) (6.1.0)\n",
      "Requirement already satisfied: yarl<2.0,>=1.12.0 in /home/sina/miniconda3/envs/pytopia_notebook/lib/python3.11/site-packages (from aiohttp<4.0.0,>=3.8.6->llama-index-core<0.12.0,>=0.11.16->llama-index) (1.13.1)\n",
      "Requirement already satisfied: soupsieve>1.2 in /home/sina/miniconda3/envs/pytopia_notebook/lib/python3.11/site-packages (from beautifulsoup4<5.0.0,>=4.12.3->llama-index-readers-file<0.3.0,>=0.2.0->llama-index) (2.6)\n",
      "Requirement already satisfied: anyio in /home/sina/miniconda3/envs/pytopia_notebook/lib/python3.11/site-packages (from httpx->llama-index-core<0.12.0,>=0.11.16->llama-index) (4.6.0)\n",
      "Requirement already satisfied: certifi in /home/sina/miniconda3/envs/pytopia_notebook/lib/python3.11/site-packages (from httpx->llama-index-core<0.12.0,>=0.11.16->llama-index) (2024.8.30)\n",
      "Requirement already satisfied: httpcore==1.* in /home/sina/miniconda3/envs/pytopia_notebook/lib/python3.11/site-packages (from httpx->llama-index-core<0.12.0,>=0.11.16->llama-index) (1.0.6)\n",
      "Requirement already satisfied: idna in /home/sina/miniconda3/envs/pytopia_notebook/lib/python3.11/site-packages (from httpx->llama-index-core<0.12.0,>=0.11.16->llama-index) (3.10)\n",
      "Requirement already satisfied: sniffio in /home/sina/miniconda3/envs/pytopia_notebook/lib/python3.11/site-packages (from httpx->llama-index-core<0.12.0,>=0.11.16->llama-index) (1.3.1)\n",
      "Requirement already satisfied: h11<0.15,>=0.13 in /home/sina/miniconda3/envs/pytopia_notebook/lib/python3.11/site-packages (from httpcore==1.*->httpx->llama-index-core<0.12.0,>=0.11.16->llama-index) (0.14.0)\n",
      "Requirement already satisfied: distro<2,>=1.7.0 in /home/sina/miniconda3/envs/pytopia_notebook/lib/python3.11/site-packages (from openai>=1.14.0->llama-index-agent-openai<0.4.0,>=0.3.4->llama-index) (1.9.0)\n",
      "Requirement already satisfied: jiter<1,>=0.4.0 in /home/sina/miniconda3/envs/pytopia_notebook/lib/python3.11/site-packages (from openai>=1.14.0->llama-index-agent-openai<0.4.0,>=0.3.4->llama-index) (0.5.0)\n",
      "Requirement already satisfied: annotated-types>=0.6.0 in /home/sina/miniconda3/envs/pytopia_notebook/lib/python3.11/site-packages (from pydantic<3.0.0,>=2.7.0->llama-index-core<0.12.0,>=0.11.16->llama-index) (0.7.0)\n",
      "Requirement already satisfied: pydantic-core==2.23.4 in /home/sina/miniconda3/envs/pytopia_notebook/lib/python3.11/site-packages (from pydantic<3.0.0,>=2.7.0->llama-index-core<0.12.0,>=0.11.16->llama-index) (2.23.4)\n",
      "Requirement already satisfied: charset-normalizer<4,>=2 in /home/sina/miniconda3/envs/pytopia_notebook/lib/python3.11/site-packages (from requests>=2.31.0->llama-index-core<0.12.0,>=0.11.16->llama-index) (3.3.2)\n",
      "Requirement already satisfied: urllib3<3,>=1.21.1 in /home/sina/miniconda3/envs/pytopia_notebook/lib/python3.11/site-packages (from requests>=2.31.0->llama-index-core<0.12.0,>=0.11.16->llama-index) (2.2.3)\n",
      "Requirement already satisfied: greenlet!=0.4.17 in /home/sina/miniconda3/envs/pytopia_notebook/lib/python3.11/site-packages (from SQLAlchemy>=1.4.49->SQLAlchemy[asyncio]>=1.4.49->llama-index-core<0.12.0,>=0.11.16->llama-index) (3.1.1)\n",
      "Requirement already satisfied: mypy-extensions>=0.3.0 in /home/sina/miniconda3/envs/pytopia_notebook/lib/python3.11/site-packages (from typing-inspect>=0.8.0->llama-index-core<0.12.0,>=0.11.16->llama-index) (1.0.0)\n",
      "Requirement already satisfied: marshmallow<4.0.0,>=3.18.0 in /home/sina/miniconda3/envs/pytopia_notebook/lib/python3.11/site-packages (from dataclasses-json->llama-index-core<0.12.0,>=0.11.16->llama-index) (3.22.0)\n",
      "Requirement already satisfied: python-dateutil>=2.8.2 in /home/sina/miniconda3/envs/pytopia_notebook/lib/python3.11/site-packages (from pandas->llama-index-legacy<0.10.0,>=0.9.48->llama-index) (2.9.0)\n",
      "Requirement already satisfied: pytz>=2020.1 in /home/sina/miniconda3/envs/pytopia_notebook/lib/python3.11/site-packages (from pandas->llama-index-legacy<0.10.0,>=0.9.48->llama-index) (2024.2)\n",
      "Requirement already satisfied: tzdata>=2022.7 in /home/sina/miniconda3/envs/pytopia_notebook/lib/python3.11/site-packages (from pandas->llama-index-legacy<0.10.0,>=0.9.48->llama-index) (2024.2)\n",
      "Requirement already satisfied: packaging>=17.0 in /home/sina/miniconda3/envs/pytopia_notebook/lib/python3.11/site-packages (from marshmallow<4.0.0,>=3.18.0->dataclasses-json->llama-index-core<0.12.0,>=0.11.16->llama-index) (24.1)\n",
      "Requirement already satisfied: six>=1.5 in /home/sina/miniconda3/envs/pytopia_notebook/lib/python3.11/site-packages (from python-dateutil>=2.8.2->pandas->llama-index-legacy<0.10.0,>=0.9.48->llama-index) (1.16.0)\n"
     ]
    }
   ],
   "source": [
    "!pip install llama-index"
   ]
  },
  {
   "cell_type": "code",
   "execution_count": 9,
   "metadata": {},
   "outputs": [
    {
     "name": "stdout",
     "output_type": "stream",
     "text": [
      "Collecting jsonpath-ng\n",
      "  Downloading jsonpath-ng-1.7.0.tar.gz (37 kB)\n",
      "  Installing build dependencies ... \u001b[?25ldone\n",
      "\u001b[?25h  Getting requirements to build wheel ... \u001b[?25ldone\n",
      "\u001b[?25h  Preparing metadata (pyproject.toml) ... \u001b[?25ldone\n",
      "\u001b[?25hCollecting ply (from jsonpath-ng)\n",
      "  Downloading ply-3.11-py2.py3-none-any.whl.metadata (844 bytes)\n",
      "Downloading ply-3.11-py2.py3-none-any.whl (49 kB)\n",
      "Building wheels for collected packages: jsonpath-ng\n",
      "  Building wheel for jsonpath-ng (pyproject.toml) ... \u001b[?25ldone\n",
      "\u001b[?25h  Created wheel for jsonpath-ng: filename=jsonpath_ng-1.7.0-py3-none-any.whl size=30100 sha256=3d2b5f1e58d01e2f780810554530ad3fa1ea27e6988f098a4cfda0fb6d682a7b\n",
      "  Stored in directory: /home/sina/.cache/pip/wheels/6b/47/94/d8ae7a868e6642221f5caa53d6aedce4ff138c76c9f031a3da\n",
      "Successfully built jsonpath-ng\n",
      "Installing collected packages: ply, jsonpath-ng\n",
      "Successfully installed jsonpath-ng-1.7.0 ply-3.11\n"
     ]
    }
   ],
   "source": [
    "# First, install the jsonpath-ng package which is used by default to parse & execute the JSONPath queries.\n",
    "!pip install jsonpath-ng"
   ]
  },
  {
   "cell_type": "code",
   "execution_count": null,
   "metadata": {},
   "outputs": [],
   "source": []
  }
 ],
 "metadata": {
  "kernelspec": {
   "display_name": "pytopia_notebook",
   "language": "python",
   "name": "python3"
  },
  "language_info": {
   "codemirror_mode": {
    "name": "ipython",
    "version": 3
   },
   "file_extension": ".py",
   "mimetype": "text/x-python",
   "name": "python",
   "nbconvert_exporter": "python",
   "pygments_lexer": "ipython3",
   "version": "3.11.10"
  }
 },
 "nbformat": 4,
 "nbformat_minor": 2
}
