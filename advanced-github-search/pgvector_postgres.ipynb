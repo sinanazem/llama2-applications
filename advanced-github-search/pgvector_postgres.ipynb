{
 "cells": [
  {
   "cell_type": "code",
   "execution_count": 1,
   "metadata": {},
   "outputs": [],
   "source": [
    "import json\n",
    "import pandas as pd\n",
    "import openai\n",
    "import os\n",
    "from loguru import logger\n",
    "import psycopg2\n",
    "from psycopg2.extras import execute_values\n",
    "import numpy as np\n",
    "from pgvector.psycopg2 import register_vector\n",
    "from dotenv import load_dotenv\n",
    "\n",
    "# Load environment variables\n",
    "load_dotenv()\n",
    "\n",
    "# Database connection configuration\n",
    "DB_CONFIG = {\n",
    "    'dbname': os.getenv(\"DB_NAME\", \"postgres\"),\n",
    "    'user': os.getenv(\"DB_USER\", \"postgres\"),\n",
    "    'password': os.getenv(\"DB_PASSWORD\", \"mypass\"),\n",
    "    'host': os.getenv(\"DB_HOST\", \"localhost\"),\n",
    "    'port': os.getenv(\"DB_PORT\", \"5432\"),\n",
    "}\n",
    "\n",
    "# Constants for OpenAI\n",
    "OPENAI_MODEL = \"text-embedding-ada-002\"\n",
    "\n",
    "def read_json_file(file_path):\n",
    "    \"\"\"Reads JSON data from a file and returns it as a Python dictionary.\"\"\"\n",
    "    try:\n",
    "        with open(file_path, 'r', encoding='utf-8') as json_file:\n",
    "            return json.load(json_file)\n",
    "    except FileNotFoundError:\n",
    "        logger.error(f\"The file {file_path} was not found.\")\n",
    "    except json.JSONDecodeError:\n",
    "        logger.error(f\"The file {file_path} contains invalid JSON.\")\n",
    "    except Exception as e:\n",
    "        logger.error(f\"An unexpected error occurred: {e}\")\n",
    "    return None\n",
    "\n",
    "def get_embeddings(text):\n",
    "    \"\"\"Retrieves embeddings for the given text using OpenAI's API.\"\"\"\n",
    "    response = openai.Embedding.create(model=OPENAI_MODEL, input=text.replace(\"\\n\", \" \"))\n",
    "    return response['data'][0]['embedding']\n",
    "\n",
    "def transform_data(df):\n",
    "    \"\"\"Transforms the DataFrame by joining specific columns' lists into strings.\"\"\"\n",
    "    for column in ['table_of_content', 'practice_exercises']:\n",
    "        df[column] = df[column].apply(lambda x: \" \".join(x) if isinstance(x, list) else x)\n",
    "    return df\n",
    "\n",
    "def create_embeddings_table(cursor):\n",
    "    \"\"\"Creates a PostgreSQL table to store embeddings and metadata.\"\"\"\n",
    "    cursor.execute(\"\"\"\n",
    "    CREATE TABLE IF NOT EXISTS embeddings (\n",
    "        id bigserial primary key,\n",
    "        local_path text,\n",
    "        name text,\n",
    "        table_of_content text,\n",
    "        practice_exercises text,\n",
    "        github_link text,\n",
    "        embedding vector(1536)\n",
    "    );\n",
    "    \"\"\")\n",
    "\n",
    "def batch_insert_embeddings(connection, df):\n",
    "    \"\"\"Performs batch insertion of embeddings and metadata into PostgreSQL.\"\"\"\n",
    "    with connection.cursor() as cursor:\n",
    "        register_vector(connection)\n",
    "        data_list = [\n",
    "            (row['local_path'], row['name'], row['table_of_content'], row['practice_exercises'], row['github_link'], np.array(get_embeddings(row['table_of_content'])))\n",
    "            for _, row in df.iterrows()\n",
    "        ]\n",
    "        execute_values(cursor, \"\"\"\n",
    "        INSERT INTO embeddings (local_path, name, table_of_content, practice_exercises, github_link, embedding)\n",
    "        VALUES %s\n",
    "        \"\"\", data_list)\n",
    "        connection.commit()\n",
    "\n",
    "def etl(file_path):\n",
    "    \"\"\"Extract, Transform, Load process for embedding data.\"\"\"\n",
    "    # Extract\n",
    "    data = read_json_file(file_path)\n",
    "    if data is None:\n",
    "        return\n",
    "    \n",
    "    df = pd.DataFrame(data)\n",
    "    logger.info(f\"DataFrame shape: {df.shape}\")\n",
    "\n",
    "    # Transform\n",
    "    df = transform_data(df)\n",
    "    logger.info(f\"Shape Transformed Data: {df.shape}\")\n",
    "\n",
    "    # Load\n",
    "    try:\n",
    "        with psycopg2.connect(**DB_CONFIG) as connection:\n",
    "            create_embeddings_table(connection.cursor())\n",
    "            batch_insert_embeddings(connection, df)\n",
    "            logger.info(\"Data loaded successfully into the database.\")\n",
    "    except psycopg2.Error as e:\n",
    "        logger.error(f\"Database error: {e}\")\n",
    "\n",
    "\n"
   ]
  },
  {
   "cell_type": "code",
   "execution_count": 2,
   "metadata": {},
   "outputs": [
    {
     "name": "stderr",
     "output_type": "stream",
     "text": [
      "\u001b[32m2024-10-19 18:01:41.787\u001b[0m | \u001b[1mINFO    \u001b[0m | \u001b[36m__main__\u001b[0m:\u001b[36metl\u001b[0m:\u001b[36m87\u001b[0m - \u001b[1mDataFrame shape: (95, 5)\u001b[0m\n",
      "\u001b[32m2024-10-19 18:01:41.790\u001b[0m | \u001b[1mINFO    \u001b[0m | \u001b[36m__main__\u001b[0m:\u001b[36metl\u001b[0m:\u001b[36m91\u001b[0m - \u001b[1mShape Transformed Data: (95, 5)\u001b[0m\n",
      "\u001b[32m2024-10-19 18:02:31.077\u001b[0m | \u001b[1mINFO    \u001b[0m | \u001b[36m__main__\u001b[0m:\u001b[36metl\u001b[0m:\u001b[36m98\u001b[0m - \u001b[1mData loaded successfully into the database.\u001b[0m\n"
     ]
    }
   ],
   "source": [
    "# You can call the etl function with the appropriate JSON file path\n",
    "etl(\"/mnt/c/Users/user/OneDrive/Desktop/github-projects/advanced-github-search/notebooks/notebooks_summary.json\")"
   ]
  },
  {
   "cell_type": "markdown",
   "metadata": {},
   "source": [
    "## Imports"
   ]
  },
  {
   "cell_type": "code",
   "execution_count": 3,
   "metadata": {},
   "outputs": [
    {
     "data": {
      "text/plain": [
       "True"
      ]
     },
     "execution_count": 3,
     "metadata": {},
     "output_type": "execute_result"
    }
   ],
   "source": [
    "import json\n",
    "import pandas as pd\n",
    "\n",
    "import openai\n",
    "import os\n",
    "from loguru import logger\n",
    "\n",
    "\n",
    "import psycopg2\n",
    "from pgvector.psycopg2 import register_vector\n",
    "import numpy as np\n",
    "from psycopg2.extras import execute_values\n",
    "import numpy as np\n",
    "\n",
    "from dotenv import load_dotenv\n",
    "load_dotenv()"
   ]
  },
  {
   "cell_type": "markdown",
   "metadata": {
    "vscode": {
     "languageId": "plaintext"
    }
   },
   "source": [
    "## Read Data"
   ]
  },
  {
   "cell_type": "code",
   "execution_count": 3,
   "metadata": {},
   "outputs": [],
   "source": [
    "def read_json_file(file_path):\n",
    "    \"\"\"\n",
    "    Reads JSON data from a file and returns it as a Python dictionary.\n",
    "\n",
    "    :param file_path: Path to the JSON file.\n",
    "    :return: Parsed JSON data as a dictionary or list.\n",
    "    \"\"\"\n",
    "    try:\n",
    "        with open(file_path, 'r', encoding='utf-8') as json_file:\n",
    "            data = json.load(json_file)\n",
    "            return data\n",
    "    except FileNotFoundError:\n",
    "        print(f\"Error: The file {file_path} was not found.\")\n",
    "    except json.JSONDecodeError:\n",
    "        print(f\"Error: The file {file_path} contains invalid JSON.\")\n",
    "    except Exception as e:\n",
    "        print(f\"An unexpected error occurred: {e}\")"
   ]
  },
  {
   "cell_type": "code",
   "execution_count": 3,
   "metadata": {},
   "outputs": [],
   "source": [
    "file_path = \"notebooks_summary.json\""
   ]
  },
  {
   "cell_type": "code",
   "execution_count": 4,
   "metadata": {},
   "outputs": [],
   "source": [
    "#Helper function: get embeddings for a text\n",
    "def get_embeddings(text):\n",
    "   response = openai.Embedding.create(\n",
    "       model=\"text-embedding-ada-002\",\n",
    "       input = text.replace(\"\\n\",\" \")\n",
    "   )\n",
    "   embedding = response['data'][0]['embedding']\n",
    "   return embedding"
   ]
  },
  {
   "cell_type": "code",
   "execution_count": null,
   "metadata": {},
   "outputs": [],
   "source": [
    "def etl(file_fath):\n",
    "    # Extract\n",
    "    data = read_json_file(file_fath)\n",
    "    df = pd.DataFrame(data)\n",
    "    logger.info(f\"{df.shape}\")\n",
    "    \n",
    "    # Transform \n",
    "    df['table_of_content'] = df['table_of_content'].apply(lambda x: \" \".join(x))\n",
    "    df['practice_exercises'] = df['practice_exercises'].apply(lambda x: \" \".join(x))\n",
    "\n",
    "    # Load\n",
    "    connection = psycopg2.connect(\n",
    "        dbname=\"postgres\",\n",
    "        user=\"postgres\",\n",
    "        password=\"mypass\",\n",
    "        host=\"localhost\",  # or the database server IP address\n",
    "        port=\"5432\"        # default port for PostgreSQL\n",
    "    )\n",
    "    \n",
    "    cur = connection.cursor()\n",
    "    #install pgvector\n",
    "    cur.execute(\"CREATE EXTENSION IF NOT EXISTS vector\");\n",
    "    connection.commit()\n",
    "    \n",
    "    \n",
    "    register_vector(connection)\n",
    "    \n",
    "    # Create table to store embeddings and metadata\n",
    "    table_create_command = \"\"\"\n",
    "    CREATE TABLE embeddings (\n",
    "                id bigserial primary key, \n",
    "                local_path text,\n",
    "                name text,\n",
    "                table_of_content text,\n",
    "                practice_exercises text,\n",
    "                github_link text,\n",
    "                embedding vector(1536)\n",
    "                );\n",
    "                \"\"\"\n",
    "    cur.execute(table_create_command)\n",
    "    cur.close()\n",
    "    connection.commit()\n",
    "    \n",
    "    #Batch insert embeddings and metadata from dataframe into PostgreSQL database\n",
    "    register_vector(connection)\n",
    "    cur = connection.cursor()\n",
    "    # Prepare the list of tuples to insert\n",
    "    data_list = [(row['local_path'], row['name'], row['table_of_content'], row['practice_exercises'], row['github_link'], np.array(row['embeddings'])) for index, row in df.iterrows()]\n",
    "    # Use execute_values to perform batch insertion\n",
    "    execute_values(cur, \"INSERT INTO embeddings (local_path, name, table_of_content, practice_exercises, github_link, embedding) VALUES %s\", data_list)\n",
    "    # Commit after we insert all embeddings\n",
    "    connection.commit()\n",
    "        \n",
    "    \n"
   ]
  },
  {
   "cell_type": "markdown",
   "metadata": {},
   "source": [
    "## User Query Similarity Search"
   ]
  },
  {
   "cell_type": "code",
   "execution_count": 24,
   "metadata": {},
   "outputs": [],
   "source": [
    "import numpy as np"
   ]
  },
  {
   "cell_type": "code",
   "execution_count": 6,
   "metadata": {},
   "outputs": [],
   "source": [
    "#Helper function: Get top 3 most similar documents from the database\n",
    "def get_top3_similar_docs(query_embedding, connection):\n",
    "    embedding_array = np.array(query_embedding)\n",
    "    # Register pgvector extension\n",
    "    register_vector(connection)\n",
    "    cur = connection.cursor()\n",
    "    # Get the top 3 most similar documents using the KNN <=> operator\n",
    "    cur.execute(\"SELECT table_of_content, name, practice_exercises, github_link FROM embeddings ORDER BY embedding <=> %s LIMIT 3\", (embedding_array,))\n",
    "    top3_docs = cur.fetchall()\n",
    "    return top3_docs"
   ]
  },
  {
   "cell_type": "code",
   "execution_count": 7,
   "metadata": {},
   "outputs": [],
   "source": [
    "# Helper function: get text completion from OpenAI API\n",
    "# Note we're using the latest gpt-3.5-turbo-0613 model\n",
    "def get_completion_from_messages(messages, model=\"gpt-4o\", temperature=0, max_tokens=1000):\n",
    "    response = openai.ChatCompletion.create(\n",
    "        model=model,\n",
    "        messages=messages,\n",
    "        temperature=temperature, \n",
    "        max_tokens=max_tokens, \n",
    "    )\n",
    "    return response.choices[0].message[\"content\"]"
   ]
  },
  {
   "cell_type": "code",
   "execution_count": 8,
   "metadata": {},
   "outputs": [],
   "source": [
    "# Helper function: get embeddings for a text\n",
    "def get_embeddings(text):\n",
    "    response = openai.Embedding.create(\n",
    "        model=\"text-embedding-ada-002\",\n",
    "        input = text.replace(\"\\n\",\" \")\n",
    "    )\n",
    "    embedding = response['data'][0]['embedding']\n",
    "    return embedding"
   ]
  },
  {
   "cell_type": "code",
   "execution_count": 9,
   "metadata": {},
   "outputs": [],
   "source": [
    "import os\n",
    "import openai\n",
    "import psycopg2"
   ]
  },
  {
   "cell_type": "code",
   "execution_count": 10,
   "metadata": {},
   "outputs": [],
   "source": [
    "DB_CONFIG = {\n",
    "    'dbname': os.getenv(\"DB_NAME\", \"postgres\"),\n",
    "    'user': os.getenv(\"DB_USER\", \"postgres\"),\n",
    "    'password': os.getenv(\"DB_PASSWORD\", \"mypass\"),\n",
    "    'host': os.getenv(\"DB_HOST\", \"localhost\"),\n",
    "    'port': os.getenv(\"DB_PORT\", \"5432\"),\n",
    "}\n",
    "\n",
    "connection = psycopg2.connect(**DB_CONFIG)"
   ]
  },
  {
   "cell_type": "code",
   "execution_count": 11,
   "metadata": {},
   "outputs": [],
   "source": [
    "related_docs = get_top3_similar_docs(get_embeddings(\"Best Practices for Function Arguments in Python\"), connection)"
   ]
  },
  {
   "cell_type": "code",
   "execution_count": 12,
   "metadata": {},
   "outputs": [
    {
     "data": {
      "text/plain": [
       "[('Positional Arguments Keyword Arguments Default Parameters Best Practices for Function Arguments in Python Positional Arguments Keyword Arguments Default Parameters Practice Exercise: A Day at the Zoo Solution',\n",
       "  '03 Argument Passing',\n",
       "  '## <a id=\\'toc5_\\'></a> ## <a id=\\'toc5_\\'></a> You are planning a visit to the local zoo with a group of students. The zoo has several sections for different kinds of animals, and each section has feeding times, special shows, and educational talks. To maximize the visit, you decide to write a Python program that helps organize the day\\'s activities based on the group\\'s preferences. *Tasks:** 1. Write a function named `schedule_visit` that takes three parameters: `section` (the section of the zoo to visit, e.g., \"Reptiles\", \"Birds\"), `time` (the time you plan to visit that section), and `activity` with a default value of \"Feeding\". The function should print a message summarizing the visit plan for that section. 2. Call the `schedule_visit` function for the \"Reptiles\" section at \"10:00 AM\" without specifying an activity to use the default value. 3. Call the `schedule_visit` function for the \"Birds\" section at \"1:00 PM\" with the activity \"Educational Talk\". 4. Write a function named `add_special_request` that takes two parameters: `section` and `request` with a default value of \"None\". This function should print a message indicating any special requests for the visit to that section. If no special request is made, the function should print that no special requests have been made for this section. 5. Call the `add_special_request` function for the \"Reptiles\" section without specifying a request. 6. Call the `add_special_request` function for the \"Mammals\" section with a special request of \"Wheelchair Access\". *Expected Output:** ```sh Planning to visit Reptiles section at 10:00 AM for a Feeding activity. Planning to visit Birds section at 1:00 PM for an Educational Talk activity. No special requests have been made for the Reptiles section. Special request for the Mammals section: Wheelchair Access. ``` This exercise engages you in applying the concepts of default parameters and function calls with both positional and keyword arguments. It is designed to reflect a practical scenario where such programming techniques can organize information efficiently and flexibly.',\n",
       "  'https://github.com/pytopia/Python-Programming/blob/main/Lectures/07%20Functions/03%20Argument%20Passing.ipynb'),\n",
       " ('Types of Parameters Positional Parameters Keyword Parameters Default Parameters Variable-Length Parameters Best Practices for Using `*args` and `**kwargs` Mixing Different Types of Parameters Rules and Syntax for Mixing Parameter Types Practical Examples Demonstrating Mixed Parameter Types Best Practices for Defining Parameters Tips for Naming and Ordering Parameters Guidelines for Using Different Types of Parameters Examples Practice Exercise Tasks: Sample Calls and Expected Outputs: Solution',\n",
       "  '04 Function Parameters',\n",
       "  \"## <a id='toc4_'></a> ## <a id='toc4_'></a> In the previous lecture, we covered the different types of function parameters in Python and their importance in writing flexible and modular code. Now, it is time to apply your knowledge through a set of practical exercises that involve writing functions with a variety of parameter types.\",\n",
       "  'https://github.com/pytopia/Python-Programming/blob/main/Lectures/11%20Advanced%20Topics/04%20Function%20Parameters.ipynb'),\n",
       " ('Positional Arguments Keyword Arguments Unpacking Arguments Unpacking Iterables with `*` Unpacking Dictionaries with `**` Best Practices for Using Function Arguments Descriptive Argument Names Use Keyword Arguments to Enhance Readability Consistent Ordering of Arguments Practice Exercise Solution',\n",
       "  '03 Function Arguments',\n",
       "  '## <a id=\\'toc5_\\'></a> ## <a id=\\'toc5_\\'></a> You are tasked with creating a command-line tool that processes user data for a small software application. The tool will need to take user information, validate it, and then output a formatted summary. This exercise will test your understanding of function arguments, including how to use positional, keyword, and unpacking arguments effectively. *Tasks:** 1. Define a function named `validate_user` that takes three positional arguments: `username`, `email`, and `age`. The function should check if the `username` is a non-empty string, the `email` contains an \"@\" symbol, and the `age` is a positive integer. The function should return `True` if all checks pass, or `False` otherwise. 2. Define a function named `format_user_data` that takes three keyword arguments: `username`, `email`, and `age`. The function should return a string formatted as \"Username: {username}, Email: {email}, Age: {age}\". 3. Write a main function named `process_user_data` that takes an unpacked list of user data. Within this function, call `validate_user` to ensure that the data is correct. If the data is valid, call `format_user_data` and print the output. If the data is invalid, print \"Invalid user data provided.\" 4. Call the `process_user_data` function twice: first with a valid list of user data and then with an invalid list. Use the unpacking operator to pass the list of data to the function. 5. Modify the `process_user_data` function to also accept and correctly handle keyword arguments for user data. 6. Call the `process_user_data` function with keyword arguments to demonstrate that it works with both positional and keyword arguments. *Expected Output:** For the three calls to `process_user_data`, you should see the following outputs (assuming the first call is valid, the second is invalid, and the third is valid with keyword arguments): ```sh Username: johndoe, Email: johndoe@example.com, Age: 28 Invalid user data provided. Username: janedoe, Email: janedoe@example.com, Age: 32 ``` *Hints:** Remember to use type hints to clarify what types of arguments your functions should accept. Think about how you can use if statements to perform the validation checks in the `validate_user` function. Consider using f-strings to create the formatted string in the `format_user_data` function. Use conditional logic in the `process_user_data` function to determine whether to unpack the arguments as positional or keyword arguments. This exercise should help reinforce your understanding of how to handle various types of function arguments and how to use them to create clear, maintainable code. Good luck!',\n",
       "  'https://github.com/pytopia/Python-Programming/blob/main/Lectures/11%20Advanced%20Topics/03%20Function%20Arguments.ipynb')]"
      ]
     },
     "execution_count": 12,
     "metadata": {},
     "output_type": "execute_result"
    }
   ],
   "source": [
    "related_docs"
   ]
  },
  {
   "cell_type": "code",
   "execution_count": 30,
   "metadata": {},
   "outputs": [],
   "source": []
  },
  {
   "cell_type": "code",
   "execution_count": 31,
   "metadata": {},
   "outputs": [],
   "source": [
    "result = process_input_with_retrieval(\"approach for Function Arguments in Python\")"
   ]
  },
  {
   "cell_type": "code",
   "execution_count": 32,
   "metadata": {},
   "outputs": [],
   "source": [
    "from pprint import pprint"
   ]
  },
  {
   "cell_type": "code",
   "execution_count": 33,
   "metadata": {},
   "outputs": [
    {
     "name": "stdout",
     "output_type": "stream",
     "text": [
      "In Python, function arguments can be categorized into several types, each serving a specific purpose. Here's a concise overview of the different types of function arguments and best practices for using them:\n",
      "\n",
      "1. **Positional Arguments**: These are the most common type of arguments. They are passed to a function in the order in which they are defined. For example:\n",
      "   ```python\n",
      "   def greet(name, age):\n",
      "       print(f\"Hello, {name}! You are {age} years old.\")\n",
      "   greet(\"Alice\", 30)\n",
      "   ```\n",
      "\n",
      "2. **Keyword Arguments**: These arguments are passed to a function by explicitly specifying the parameter name, allowing you to skip the order. For example:\n",
      "   ```python\n",
      "   greet(age=30, name=\"Alice\")\n",
      "   ```\n",
      "\n",
      "3. **Default Parameters**: These parameters have default values specified in the function definition. If no argument is provided for a default parameter, the default value is used. For example:\n",
      "   ```python\n",
      "   def greet(name, age=25):\n",
      "       print(f\"Hello, {name}! You are {age} years old.\")\n",
      "   greet(\"Bob\")  # Uses the default age of 25\n",
      "   ```\n",
      "\n",
      "4. **Variable-Length Parameters**: These allow a function to accept an arbitrary number of arguments. They are defined using `*args` for non-keyword arguments and `**kwargs` for keyword arguments. For example:\n",
      "   ```python\n",
      "   def print_args(*args):\n",
      "       for arg in args:\n",
      "           print(arg)\n",
      "\n",
      "   def print_kwargs(**kwargs):\n",
      "       for key, value in kwargs.items():\n",
      "           print(f\"{key}: {value}\")\n",
      "   ```\n",
      "\n",
      "5. **Unpacking Arguments**: You can unpack iterables and dictionaries into function arguments using `*` and `**`, respectively. For example:\n",
      "   ```python\n",
      "   numbers = (1, 2, 3)\n",
      "   print_args(*numbers)\n",
      "\n",
      "   info = {'name': 'Alice', 'age': 30}\n",
      "   greet(**info)\n",
      "   ```\n",
      "\n",
      "**Best Practices**:\n",
      "- Use descriptive names for arguments to enhance code readability.\n",
      "- Prefer keyword arguments for functions with many parameters to improve clarity.\n",
      "- Maintain a consistent order of parameters, especially when mixing different types.\n",
      "- Use `*args` and `**kwargs` judiciously to avoid making the function signature unclear.\n",
      "\n",
      "These practices help in writing clean, maintainable, and flexible code.\n"
     ]
    }
   ],
   "source": [
    "print(result)"
   ]
  },
  {
   "cell_type": "code",
   "execution_count": null,
   "metadata": {},
   "outputs": [],
   "source": []
  }
 ],
 "metadata": {
  "kernelspec": {
   "display_name": "telegram",
   "language": "python",
   "name": "python3"
  },
  "language_info": {
   "codemirror_mode": {
    "name": "ipython",
    "version": 3
   },
   "file_extension": ".py",
   "mimetype": "text/x-python",
   "name": "python",
   "nbconvert_exporter": "python",
   "pygments_lexer": "ipython3",
   "version": "3.11.9"
  }
 },
 "nbformat": 4,
 "nbformat_minor": 2
}
