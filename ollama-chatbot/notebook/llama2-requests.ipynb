{
 "cells": [
  {
   "cell_type": "code",
   "execution_count": 4,
   "id": "dbc2a25f-222c-44d8-b735-0e463dc9967a",
   "metadata": {},
   "outputs": [],
   "source": [
    "import json\n",
    "import requests"
   ]
  },
  {
   "cell_type": "code",
   "execution_count": 28,
   "id": "011ceb84-bddd-4ce1-b2d7-a3b4273b97ca",
   "metadata": {},
   "outputs": [],
   "source": [
    "def call_llama(model, prompt, stream=False):\n",
    "    url = \"http://localhost:11434/api/generate\"\n",
    "    data = {\n",
    "        \"model\": model,\n",
    "        \"prompt\":prompt,\n",
    "        \"stream\":stream\n",
    "    }\n",
    "    json_data = json.dumps(data)\n",
    "    response = requests.post(url, data=json_data, headers={\"Content-Type\":\"application/json\"})\n",
    "    if response.status_code == 200:\n",
    "        return response.json()\n",
    "    else:\n",
    "        return f\"Error: Status code is: {response.status_code}\""
   ]
  },
  {
   "cell_type": "code",
   "execution_count": 30,
   "id": "21d2e5ce-efab-49d7-8110-ed951ba4c368",
   "metadata": {},
   "outputs": [
    {
     "data": {
      "text/plain": [
       "\"Hello! It's nice to meet you. Is there something I can help you with or would you like to chat?\""
      ]
     },
     "execution_count": 30,
     "metadata": {},
     "output_type": "execute_result"
    }
   ],
   "source": [
    "call_llama('llama2', \"hi\")['response']"
   ]
  },
  {
   "cell_type": "code",
   "execution_count": null,
   "id": "394c128f-c56d-4a55-9894-6b52117b906f",
   "metadata": {},
   "outputs": [],
   "source": []
  }
 ],
 "metadata": {
  "kernelspec": {
   "display_name": "Python 3 (ipykernel)",
   "language": "python",
   "name": "python3"
  },
  "language_info": {
   "codemirror_mode": {
    "name": "ipython",
    "version": 3
   },
   "file_extension": ".py",
   "mimetype": "text/x-python",
   "name": "python",
   "nbconvert_exporter": "python",
   "pygments_lexer": "ipython3",
   "version": "3.11.5"
  }
 },
 "nbformat": 4,
 "nbformat_minor": 5
}
