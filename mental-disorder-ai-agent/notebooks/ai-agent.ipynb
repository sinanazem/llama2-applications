{
 "cells": [
  {
   "cell_type": "code",
   "execution_count": 2,
   "metadata": {},
   "outputs": [],
   "source": [
    "# pip install langchain-qdrant"
   ]
  },
  {
   "cell_type": "code",
   "execution_count": 3,
   "metadata": {},
   "outputs": [],
   "source": [
    "from langchain_community.embeddings import OpenAIEmbeddings\n",
    "from qdrant_client import QdrantClient\n",
    "from langchain_community.vectorstores import Qdrant"
   ]
  },
  {
   "cell_type": "code",
   "execution_count": 11,
   "metadata": {},
   "outputs": [
    {
     "data": {
      "text/plain": [
       "True"
      ]
     },
     "execution_count": 11,
     "metadata": {},
     "output_type": "execute_result"
    }
   ],
   "source": [
    "import os\n",
    "from dotenv import load_dotenv\n",
    "\n",
    "# Specify the path to your .env file\n",
    "\n",
    "ENV_PATH = '/mnt/c/Users/user/OneDrive/Desktop/llm-apps/mental-disorder-ai-agent/.env'\n",
    "\n",
    "# Load environment variables from the specified .env file\n",
    "load_dotenv(dotenv_path=ENV_PATH)"
   ]
  },
  {
   "cell_type": "code",
   "execution_count": 6,
   "metadata": {},
   "outputs": [],
   "source": [
    "from langchain.document_loaders import PyPDFDirectoryLoader\n",
    "\n",
    "loader = PyPDFDirectoryLoader(\"/mnt/c/Users/user/OneDrive/Desktop/llm-apps/mental-disorder-ai-agent/data\")\n",
    "data= loader.load_and_split()"
   ]
  },
  {
   "cell_type": "code",
   "execution_count": 9,
   "metadata": {},
   "outputs": [],
   "source": [
    "from langchain.text_splitter import RecursiveCharacterTextSplitter\n",
    "text_splitter = RecursiveCharacterTextSplitter(chunk_size=1000, chunk_overlap=20)\n",
    "documents = text_splitter.split_documents(data)\n"
   ]
  },
  {
   "cell_type": "code",
   "execution_count": 12,
   "metadata": {},
   "outputs": [
    {
     "name": "stderr",
     "output_type": "stream",
     "text": [
      "/home/sina/miniconda3/envs/langchain_env/lib/python3.11/site-packages/langchain_core/_api/deprecation.py:139: LangChainDeprecationWarning: The class `OpenAIEmbeddings` was deprecated in LangChain 0.0.9 and will be removed in 0.3.0. An updated version of the class exists in the langchain-openai package and should be used instead. To use it run `pip install -U langchain-openai` and import as `from langchain_openai import OpenAIEmbeddings`.\n",
      "  warn_deprecated(\n"
     ]
    }
   ],
   "source": [
    "embeddings = OpenAIEmbeddings(model=\"text-embedding-3-large\")\n",
    "def create_db(documents):\n",
    "    return Qdrant.from_documents(\n",
    "        documents=documents,\n",
    "        embedding=embeddings,\n",
    "        collection_name=\"my_documents\",\n",
    "        location=\":memory:\",\n",
    "        force_recreate=False,\n",
    "    )\n",
    "db = create_db(documents)"
   ]
  },
  {
   "cell_type": "markdown",
   "metadata": {},
   "source": [
    "### Build an autonomous Agents: everything-about-book"
   ]
  },
  {
   "cell_type": "markdown",
   "metadata": {},
   "source": [
    "#### define Tools"
   ]
  },
  {
   "cell_type": "code",
   "execution_count": 13,
   "metadata": {},
   "outputs": [],
   "source": [
    "from langchain.tools import BaseTool, StructuredTool, tool"
   ]
  },
  {
   "cell_type": "code",
   "execution_count": 16,
   "metadata": {},
   "outputs": [],
   "source": [
    "# pip install langchain-openai"
   ]
  },
  {
   "cell_type": "code",
   "execution_count": 18,
   "metadata": {},
   "outputs": [],
   "source": [
    "from langchain_openai import ChatOpenAI\n",
    "\n",
    "from langchain.chains import (\n",
    "    StuffDocumentsChain, LLMChain, ConversationalRetrievalChain\n",
    ")"
   ]
  },
  {
   "cell_type": "code",
   "execution_count": 19,
   "metadata": {},
   "outputs": [],
   "source": [
    "session_state = {}"
   ]
  },
  {
   "cell_type": "code",
   "execution_count": 20,
   "metadata": {},
   "outputs": [],
   "source": [
    "@tool\n",
    "def find_relevant_books(user_query):\n",
    "    \"\"\"\n",
    "    Return all relevant books based on user query.\n",
    "    Important: This function should be called only for queries that require finding specific books.\n",
    "    For general queries that do not require finding specific books, use other available functions.\n",
    "    \"\"\"\n",
    "    retriever = db.as_retriever(\n",
    "        search_type=\"mmr\", search_kwargs={\"k\": 4, \"lambda_mult\": 0.25}\n",
    "    )\n",
    "    relevant_docs = retriever.get_relevant_documents(user_query)\n",
    "    session_state[\"relevant_docs\"] = relevant_docs\n",
    "    session_state[\"retriever\"] = retriever\n",
    "    return relevant_docs\n",
    "\n",
    "llm = ChatOpenAI(\n",
    "    model=\"gpt-4o\", \n",
    "    temperature=0, \n",
    "    openai_api_key=os.getenv(\"OPEN_AI_KEY\")\n",
    ")\n",
    "@tool\n",
    "def qa(user_query):\n",
    "    \"\"\"\n",
    "    Answer user questions based on the retrieved documents\n",
    "    \"\"\"\n",
    "    retriever = session_state[\"retriever\"]\n",
    "    relevant_docs = session_state.get(\"relevant_docs\")\n",
    "    if relevant_docs is None:\n",
    "        # If no documents are stored, retrieve them\n",
    "        relevant_docs = retriever.get_relevant_documents(user_query)\n",
    "        session_state[\"relevant_docs\"] = relevant_docs\n",
    "    \n",
    "    # Create a chain to answer questions using stored documents\n",
    "    qa = ConversationalRetrievalChain.from_llm(llm, retriever)\n",
    "    chat_history = []\n",
    "    result = qa(\n",
    "        {\"question\": user_query, \"chat_history\": chat_history, \"context\": relevant_docs}\n",
    "    )\n",
    "    return result"
   ]
  },
  {
   "cell_type": "code",
   "execution_count": 21,
   "metadata": {},
   "outputs": [],
   "source": [
    "from langchain.prompts import ChatPromptTemplate, MessagesPlaceholder\n",
    "\n",
    "# Define the prompt template\n",
    "prompt_template = \"\"\"\n",
    "You are a helpful AI assistant specializing in answering questions \n",
    "related to books from users. Use retrieved relevant books to \n",
    "answer questions.\n",
    "====================\n",
    "{relevant_docs}\n",
    "\"\"\"\n",
    "prompt = ChatPromptTemplate.from_messages(\n",
    "    [\n",
    "        (\n",
    "            \"system\",\n",
    "            \"\"\"You are helpful AI assistant. Use the following \n",
    "               template for your actions and observations.\"\"\"\n",
    "        ),\n",
    "        (\"user\", prompt_template),\n",
    "        MessagesPlaceholder(variable_name=\"chat_history\"),\n",
    "        (\"user\", \"{input}\"),\n",
    "        MessagesPlaceholder(variable_name=\"agent_scratchpad\"),\n",
    "    ]\n",
    ")"
   ]
  },
  {
   "cell_type": "code",
   "execution_count": 27,
   "metadata": {},
   "outputs": [],
   "source": [
    "from langchain.agents.format_scratchpad import format_to_openai_functions\n",
    "from langchain.tools import format_tool_to_openai_function\n",
    "from langchain.tools import Tool"
   ]
  },
  {
   "cell_type": "code",
   "execution_count": 29,
   "metadata": {},
   "outputs": [],
   "source": [
    "# These are custom functions for finding books, answering questions, and creating topic networks.\n",
    "tools = [find_relevant_books, qa]\n",
    "# OpenAI Function Formatting. This converts the tools into a format compatible with OpenAI's function calling feature.\n",
    "functions = [format_tool_to_openai_function(f) for f in tools]\n",
    "#This sets up the GPT-4o model with the defined functions.\n",
    "model = ChatOpenAI(\n",
    "    temperature=0,\n",
    "    model_name=\"gpt-4o\",\n",
    ").bind(functions=functions)"
   ]
  },
  {
   "cell_type": "code",
   "execution_count": 30,
   "metadata": {},
   "outputs": [],
   "source": [
    "from langchain.agents import AgentExecutor\n",
    "from langchain.agents.output_parsers import OpenAIFunctionsAgentOutputParser\n",
    "from langchain.schema.runnable import RunnablePassthrough\n",
    "from langchain.memory import ConversationBufferMemory"
   ]
  },
  {
   "cell_type": "code",
   "execution_count": 31,
   "metadata": {},
   "outputs": [],
   "source": [
    "# Set up the agent chain.\n",
    "# including assigning relevant documents and agent scratchpad, applying the prompt, running the model, and parsing the output.\n",
    "agent_chain = (\n",
    "    RunnablePassthrough.assign(\n",
    "        agent_scratchpad=lambda x: format_to_openai_functions(x[\"intermediate_steps\"]),\n",
    "        relevant_docs=lambda x: \"\\n\".join(\n",
    "            str(doc) for doc in session_state.get(\"relevant_docs\", [])\n",
    "        ),\n",
    "    )\n",
    "    | prompt\n",
    "    | model\n",
    "    | OpenAIFunctionsAgentOutputParser()\n",
    ")\n",
    "# Set up a memory component to store conversation history.\n",
    "memory = ConversationBufferMemory(\n",
    "    return_messages=True,\n",
    "    memory_key=\"chat_history\",\n",
    "    input_key=\"input\",\n",
    "    output_key=\"output\",\n",
    ")\n",
    "# Initialize an agent with the agent and defined tools\n",
    "# This combines all components into an executable agent that can process queries and maintain conversation context.\n",
    "# With AgentExecutor, the agent is equipped with the tools and verbose output is enabled, allowing for detailed logging.\n",
    "agent = AgentExecutor(agent=agent_chain, tools=tools, verbose=True, memory=memory)"
   ]
  },
  {
   "cell_type": "code",
   "execution_count": 32,
   "metadata": {},
   "outputs": [
    {
     "name": "stdout",
     "output_type": "stream",
     "text": [
      "\n",
      "\n",
      "\u001b[1m> Entering new AgentExecutor chain...\u001b[0m\n",
      "\u001b[32;1m\u001b[1;3m\n",
      "Invoking: `find_relevant_books` with `{'user_query': 'symptoms of PTSD'}`\n",
      "\n",
      "\n",
      "\u001b[0m"
     ]
    },
    {
     "name": "stderr",
     "output_type": "stream",
     "text": [
      "/home/sina/miniconda3/envs/langchain_env/lib/python3.11/site-packages/langchain_core/_api/deprecation.py:139: LangChainDeprecationWarning: The method `BaseRetriever.get_relevant_documents` was deprecated in langchain-core 0.1.46 and will be removed in 0.3.0. Use invoke instead.\n",
      "  warn_deprecated(\n"
     ]
    },
    {
     "name": "stdout",
     "output_type": "stream",
     "text": [
      "\u001b[36;1m\u001b[1;3m[Document(metadata={'source': '/mnt/c/Users/user/OneDrive/Desktop/llm-apps/mental-disorder-ai-agent/data/ptsd_open_source.pdf', 'page': 2, '_id': 'aa33f2577943470c98ac3a850b224e52', '_collection_name': 'my_documents'}, page_content='To be diagnosed with PTSD, an adult must have all of the following for  \\nat least 1 month:\\n ⊲At least one re-experiencing symptom\\n ⊲At least one avoidance symptom\\n ⊲At least two arousal and reactivity symptoms\\n ⊲At least two cognition and mood symptoms\\nRe-experiencing symptoms\\n⊲ Flashbacks—reliving the traumatic event, including physical symptoms such as a racing heart or sweating\\n⊲ Reoccurring memories or dreams related to the event\\n⊲ Distressing thoughts\\n⊲ Physical signs of stress\\nThoughts and feelings can trigger these symptoms, as can words, objects, or situations that are reminders of the event.\\nAvoidance symptoms\\n⊲ Staying away from places, events, or objects that are reminders of the experience\\n⊲ Avoiding thoughts or feelings related to the traumatic event\\nAvoidance symptoms may cause people to change their routines. For example, after a serious car accident, a person may avoid driving or riding in a car.\\nArousal and reactivity symptoms\\n⊲ Being easily startled'), Document(metadata={'source': '/mnt/c/Users/user/OneDrive/Desktop/llm-apps/mental-disorder-ai-agent/data/schizophrenia.pdf', 'page': 1, '_id': 'a590bbb5cf5c4b8cb913f302e580f60e', '_collection_name': 'my_documents'}, page_content='Psychotic symptoms\\nPsychotic symptoms\\xa0include changes in the way a person thinks, acts, and experiences the world. People with psychotic symptoms may lose a shared sense of reality with others and experience the world in a distorted way. For some people, these symptoms come and go. For others, the symptoms become stable over time. Psychotic symptoms include:\\n ●Hallucinations: \\xa0When a person sees, hears, smells, tastes, or feels things \\nthat are not actually there. Hearing voices is common for people with schizophrenia. People who hear voices may hear them for a long time before family or friends notice a problem.\\n ●Delusions: \\xa0When a person has strong beliefs that are not true and may \\nseem irrational to others. For example, individuals experiencing delusions may believe that people on the radio and television are sending special messages that require a certain response, or they may believe that they are in danger or that others are trying to hurt them.'), Document(metadata={'source': '/mnt/c/Users/user/OneDrive/Desktop/llm-apps/mental-disorder-ai-agent/data/generalized_anxiety_disorder.pdf', 'page': 1, '_id': '5598a85e9564412aa70368816a6e8bd8', '_collection_name': 'my_documents'}, page_content='●Startle easily\\n ●Have trouble falling asleep or staying asleep'), Document(metadata={'source': '/mnt/c/Users/user/OneDrive/Desktop/llm-apps/mental-disorder-ai-agent/data/ptsd_open_source.pdf', 'page': 5, '_id': '990d265661374673aca83c2463216c12', '_collection_name': 'my_documents'}, page_content='⊲ Engage in exercise, mindfulness, or other activities that help reduce stress.\\n⊲ Try to maintain routines for meals, exercise, and sleep.\\n⊲ Set realistic goals and do what you can as you are able.\\n⊲ Spend time with trusted friends or relatives, and tell them about things that may trigger symptoms.\\n⊲ Expect your symptoms to improve gradually, not immediately.\\n⊲ Avoid use of alcohol or drugs.')]\u001b[0m\u001b[32;1m\u001b[1;3mTo be diagnosed with PTSD (Post-Traumatic Stress Disorder), an adult must have the following symptoms for at least one month:\n",
      "\n",
      "1. **Re-experiencing Symptoms**:\n",
      "   - Flashbacks: Reliving the traumatic event, including physical symptoms such as a racing heart or sweating.\n",
      "   - Reoccurring memories or dreams related to the event.\n",
      "   - Distressing thoughts.\n",
      "   - Physical signs of stress.\n",
      "\n",
      "2. **Avoidance Symptoms**:\n",
      "   - Staying away from places, events, or objects that are reminders of the experience.\n",
      "   - Avoiding thoughts or feelings related to the traumatic event.\n",
      "   - These symptoms may cause people to change their routines, such as avoiding driving or riding in a car after a serious car accident.\n",
      "\n",
      "3. **Arousal and Reactivity Symptoms**:\n",
      "   - Being easily startled.\n",
      "   - Having trouble falling asleep or staying asleep.\n",
      "\n",
      "4. **Cognition and Mood Symptoms**:\n",
      "   - At least two symptoms related to cognition and mood are required, but specific examples are not provided in the retrieved documents.\n",
      "\n",
      "These symptoms can be triggered by thoughts and feelings, as well as words, objects, or situations that are reminders of the traumatic event.\u001b[0m\n",
      "\n",
      "\u001b[1m> Finished chain.\u001b[0m\n"
     ]
    },
    {
     "data": {
      "text/plain": [
       "{'input': 'what are symptom of PTSD?',\n",
       " 'chat_history': [HumanMessage(content='what are symptom of PTSD?'),\n",
       "  AIMessage(content='To be diagnosed with PTSD (Post-Traumatic Stress Disorder), an adult must have the following symptoms for at least one month:\\n\\n1. **Re-experiencing Symptoms**:\\n   - Flashbacks: Reliving the traumatic event, including physical symptoms such as a racing heart or sweating.\\n   - Reoccurring memories or dreams related to the event.\\n   - Distressing thoughts.\\n   - Physical signs of stress.\\n\\n2. **Avoidance Symptoms**:\\n   - Staying away from places, events, or objects that are reminders of the experience.\\n   - Avoiding thoughts or feelings related to the traumatic event.\\n   - These symptoms may cause people to change their routines, such as avoiding driving or riding in a car after a serious car accident.\\n\\n3. **Arousal and Reactivity Symptoms**:\\n   - Being easily startled.\\n   - Having trouble falling asleep or staying asleep.\\n\\n4. **Cognition and Mood Symptoms**:\\n   - At least two symptoms related to cognition and mood are required, but specific examples are not provided in the retrieved documents.\\n\\nThese symptoms can be triggered by thoughts and feelings, as well as words, objects, or situations that are reminders of the traumatic event.')],\n",
       " 'output': 'To be diagnosed with PTSD (Post-Traumatic Stress Disorder), an adult must have the following symptoms for at least one month:\\n\\n1. **Re-experiencing Symptoms**:\\n   - Flashbacks: Reliving the traumatic event, including physical symptoms such as a racing heart or sweating.\\n   - Reoccurring memories or dreams related to the event.\\n   - Distressing thoughts.\\n   - Physical signs of stress.\\n\\n2. **Avoidance Symptoms**:\\n   - Staying away from places, events, or objects that are reminders of the experience.\\n   - Avoiding thoughts or feelings related to the traumatic event.\\n   - These symptoms may cause people to change their routines, such as avoiding driving or riding in a car after a serious car accident.\\n\\n3. **Arousal and Reactivity Symptoms**:\\n   - Being easily startled.\\n   - Having trouble falling asleep or staying asleep.\\n\\n4. **Cognition and Mood Symptoms**:\\n   - At least two symptoms related to cognition and mood are required, but specific examples are not provided in the retrieved documents.\\n\\nThese symptoms can be triggered by thoughts and feelings, as well as words, objects, or situations that are reminders of the traumatic event.'}"
      ]
     },
     "execution_count": 32,
     "metadata": {},
     "output_type": "execute_result"
    }
   ],
   "source": [
    "agent.invoke({\"input\": \"what are symptom of PTSD?\"})"
   ]
  },
  {
   "cell_type": "code",
   "execution_count": null,
   "metadata": {},
   "outputs": [],
   "source": []
  }
 ],
 "metadata": {
  "kernelspec": {
   "display_name": "langchain_env",
   "language": "python",
   "name": "python3"
  },
  "language_info": {
   "codemirror_mode": {
    "name": "ipython",
    "version": 3
   },
   "file_extension": ".py",
   "mimetype": "text/x-python",
   "name": "python",
   "nbconvert_exporter": "python",
   "pygments_lexer": "ipython3",
   "version": "3.11.9"
  }
 },
 "nbformat": 4,
 "nbformat_minor": 2
}
