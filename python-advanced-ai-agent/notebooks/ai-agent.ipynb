{
 "cells": [
  {
   "cell_type": "code",
   "execution_count": 10,
   "metadata": {},
   "outputs": [],
   "source": [
    "from llama_index.core.agent import ReActAgent\n",
    "from llama_index.llms.openai import OpenAI\n",
    "from llama_index.core.llms import ChatMessage\n",
    "from llama_index.core.tools import BaseTool, FunctionTool\n",
    "from llama_index.llms.ollama import Ollama"
   ]
  },
  {
   "cell_type": "code",
   "execution_count": 4,
   "metadata": {},
   "outputs": [],
   "source": [
    "\n",
    "llm = Ollama(model=\"llama3\", request_timeout=120.0)"
   ]
  },
  {
   "cell_type": "code",
   "execution_count": 5,
   "metadata": {},
   "outputs": [],
   "source": [
    "resp = llm.complete(\"Who is Paul Graham?\")"
   ]
  },
  {
   "cell_type": "code",
   "execution_count": 6,
   "metadata": {},
   "outputs": [
    {
     "data": {
      "text/plain": [
       "CompletionResponse(text=\"Paul Graham (1924-2011) was a British Anglican priest and missionary who served in various parts of the world, including Africa, Asia, and Europe. He is best known for his work among the Maasai people in Tanzania.\\n\\nGraham was ordained as an Anglican priest in 1950 and spent much of his career serving with the Church Mission Society (CMS) in Africa. In the early 1960s, he moved to Tanzania (then Tanganyika) to work among the Maasai people, a traditionally pastoralist ethnic group.\\n\\nGraham's work among the Maasai was marked by his deep respect for their culture and way of life, as well as his commitment to building relationships with local leaders and communities. He learned the Maasai language and became proficient in traditional Maasai customs and practices. Graham also worked to establish schools, healthcare facilities, and other community development projects in the area.\\n\\nGraham's legacy extends beyond his individual work to the broader impact of his ministry on the lives of many Maasai people. He is remembered as a humble, compassionate, and culturally sensitive missionary who built bridges between cultures and helped to promote understanding and cooperation between local communities and outsiders.\\n\\nIn 2006, Graham was awarded the Order of the British Empire (OBE) for his services to international development and community relations. He passed away in 2011 at the age of 87.\", additional_kwargs={'model': 'llama3', 'created_at': '2024-06-14T12:54:25.992252565Z', 'done': True, 'done_reason': 'stop', 'context': [128006, 882, 128007, 271, 15546, 374, 7043, 26181, 30, 128009, 128006, 78191, 128007, 271, 26368, 26181, 320, 5926, 19, 12, 679, 16, 8, 574, 264, 8013, 91634, 276, 28185, 323, 73998, 889, 10434, 304, 5370, 5596, 315, 279, 1917, 11, 2737, 10384, 11, 13936, 11, 323, 4606, 13, 1283, 374, 1888, 3967, 369, 813, 990, 4315, 279, 11583, 300, 2192, 1274, 304, 69894, 382, 38, 17012, 574, 86724, 439, 459, 91634, 276, 28185, 304, 220, 6280, 15, 323, 7543, 1790, 315, 813, 7076, 13788, 449, 279, 9441, 24098, 13581, 320, 54357, 8, 304, 10384, 13, 763, 279, 4216, 220, 5162, 15, 82, 11, 568, 7882, 311, 69894, 320, 3473, 41462, 3852, 11755, 8, 311, 990, 4315, 279, 11583, 300, 2192, 1274, 11, 264, 36342, 90371, 380, 22277, 1912, 382, 38, 17012, 596, 990, 4315, 279, 11583, 300, 2192, 574, 13160, 555, 813, 5655, 5201, 369, 872, 7829, 323, 1648, 315, 2324, 11, 439, 1664, 439, 813, 15507, 311, 4857, 12135, 449, 2254, 6164, 323, 10977, 13, 1283, 9687, 279, 11583, 300, 2192, 4221, 323, 6244, 69365, 304, 8776, 11583, 300, 2192, 35869, 323, 12659, 13, 26181, 1101, 6575, 311, 5813, 8853, 11, 18985, 13077, 11, 323, 1023, 4029, 4500, 7224, 304, 279, 3158, 382, 38, 17012, 596, 20160, 2289, 7953, 813, 3927, 990, 311, 279, 27927, 5536, 315, 813, 25887, 389, 279, 6439, 315, 1690, 11583, 300, 2192, 1274, 13, 1283, 374, 27569, 439, 264, 39612, 11, 60961, 11, 323, 66963, 16614, 73998, 889, 5918, 40073, 1990, 27833, 323, 9087, 311, 12192, 8830, 323, 23915, 1990, 2254, 10977, 323, 73289, 382, 644, 220, 1049, 21, 11, 26181, 574, 22034, 279, 7365, 315, 279, 8013, 21080, 320, 46, 11855, 8, 369, 813, 3600, 311, 6625, 4500, 323, 4029, 4398, 13, 1283, 5946, 3201, 304, 220, 679, 16, 520, 279, 4325, 315, 220, 4044, 13, 128009], 'total_duration': 77938952980, 'load_duration': 19144903815, 'prompt_eval_count': 14, 'prompt_eval_duration': 1383733000, 'eval_count': 290, 'eval_duration': 57336183000}, raw={'model': 'llama3', 'created_at': '2024-06-14T12:54:25.992252565Z', 'response': \"Paul Graham (1924-2011) was a British Anglican priest and missionary who served in various parts of the world, including Africa, Asia, and Europe. He is best known for his work among the Maasai people in Tanzania.\\n\\nGraham was ordained as an Anglican priest in 1950 and spent much of his career serving with the Church Mission Society (CMS) in Africa. In the early 1960s, he moved to Tanzania (then Tanganyika) to work among the Maasai people, a traditionally pastoralist ethnic group.\\n\\nGraham's work among the Maasai was marked by his deep respect for their culture and way of life, as well as his commitment to building relationships with local leaders and communities. He learned the Maasai language and became proficient in traditional Maasai customs and practices. Graham also worked to establish schools, healthcare facilities, and other community development projects in the area.\\n\\nGraham's legacy extends beyond his individual work to the broader impact of his ministry on the lives of many Maasai people. He is remembered as a humble, compassionate, and culturally sensitive missionary who built bridges between cultures and helped to promote understanding and cooperation between local communities and outsiders.\\n\\nIn 2006, Graham was awarded the Order of the British Empire (OBE) for his services to international development and community relations. He passed away in 2011 at the age of 87.\", 'done': True, 'done_reason': 'stop', 'context': [128006, 882, 128007, 271, 15546, 374, 7043, 26181, 30, 128009, 128006, 78191, 128007, 271, 26368, 26181, 320, 5926, 19, 12, 679, 16, 8, 574, 264, 8013, 91634, 276, 28185, 323, 73998, 889, 10434, 304, 5370, 5596, 315, 279, 1917, 11, 2737, 10384, 11, 13936, 11, 323, 4606, 13, 1283, 374, 1888, 3967, 369, 813, 990, 4315, 279, 11583, 300, 2192, 1274, 304, 69894, 382, 38, 17012, 574, 86724, 439, 459, 91634, 276, 28185, 304, 220, 6280, 15, 323, 7543, 1790, 315, 813, 7076, 13788, 449, 279, 9441, 24098, 13581, 320, 54357, 8, 304, 10384, 13, 763, 279, 4216, 220, 5162, 15, 82, 11, 568, 7882, 311, 69894, 320, 3473, 41462, 3852, 11755, 8, 311, 990, 4315, 279, 11583, 300, 2192, 1274, 11, 264, 36342, 90371, 380, 22277, 1912, 382, 38, 17012, 596, 990, 4315, 279, 11583, 300, 2192, 574, 13160, 555, 813, 5655, 5201, 369, 872, 7829, 323, 1648, 315, 2324, 11, 439, 1664, 439, 813, 15507, 311, 4857, 12135, 449, 2254, 6164, 323, 10977, 13, 1283, 9687, 279, 11583, 300, 2192, 4221, 323, 6244, 69365, 304, 8776, 11583, 300, 2192, 35869, 323, 12659, 13, 26181, 1101, 6575, 311, 5813, 8853, 11, 18985, 13077, 11, 323, 1023, 4029, 4500, 7224, 304, 279, 3158, 382, 38, 17012, 596, 20160, 2289, 7953, 813, 3927, 990, 311, 279, 27927, 5536, 315, 813, 25887, 389, 279, 6439, 315, 1690, 11583, 300, 2192, 1274, 13, 1283, 374, 27569, 439, 264, 39612, 11, 60961, 11, 323, 66963, 16614, 73998, 889, 5918, 40073, 1990, 27833, 323, 9087, 311, 12192, 8830, 323, 23915, 1990, 2254, 10977, 323, 73289, 382, 644, 220, 1049, 21, 11, 26181, 574, 22034, 279, 7365, 315, 279, 8013, 21080, 320, 46, 11855, 8, 369, 813, 3600, 311, 6625, 4500, 323, 4029, 4398, 13, 1283, 5946, 3201, 304, 220, 679, 16, 520, 279, 4325, 315, 220, 4044, 13, 128009], 'total_duration': 77938952980, 'load_duration': 19144903815, 'prompt_eval_count': 14, 'prompt_eval_duration': 1383733000, 'eval_count': 290, 'eval_duration': 57336183000}, logprobs=None, delta=None)"
      ]
     },
     "execution_count": 6,
     "metadata": {},
     "output_type": "execute_result"
    }
   ],
   "source": [
    "resp"
   ]
  },
  {
   "cell_type": "code",
   "execution_count": 7,
   "metadata": {},
   "outputs": [],
   "source": [
    "def multiply(a: int, b: int) -> int:\n",
    "    \"\"\"Multiply two integers and returns the result integer\"\"\"\n",
    "    return a * b\n",
    "\n",
    "def add(a: int, b: int) -> int:\n",
    "    \"\"\"Add two integers and returns the result integer\"\"\"\n",
    "    return a + b\n",
    "\n",
    "def subtract(a: int, b: int) -> int:\n",
    "    \"\"\"Subtract two integers and returns the result integer\"\"\"\n",
    "    return a - b"
   ]
  },
  {
   "cell_type": "code",
   "execution_count": 8,
   "metadata": {},
   "outputs": [],
   "source": [
    "multiply_tool = FunctionTool.from_defaults(fn=multiply)\n",
    "add_tool = FunctionTool.from_defaults(fn=add)\n",
    "subtract_tool = FunctionTool.from_defaults(fn=subtract)"
   ]
  },
  {
   "cell_type": "code",
   "execution_count": 11,
   "metadata": {},
   "outputs": [],
   "source": [
    "agent = ReActAgent.from_tools([multiply_tool, add_tool, subtract_tool], llm=llm, verbose=True)"
   ]
  },
  {
   "cell_type": "code",
   "execution_count": 12,
   "metadata": {},
   "outputs": [
    {
     "name": "stdout",
     "output_type": "stream",
     "text": [
      "\u001b[1;3;38;5;200mThought: I can use a tool to help me answer the question.\n",
      "Action: multiply\n",
      "Action Input: {'a': 2, 'b': 4}\n",
      "\u001b[0m\u001b[1;3;34mObservation: 8\n",
      "\u001b[0m\u001b[1;3;38;5;200mThought: Now that I know the result of 2*4 is 8, I'll add it to 20.\n",
      "Action: add\n",
      "Action Input: {'a': 20, 'b': 8}\n",
      "\u001b[0m\u001b[1;3;34mObservation: 28\n",
      "\u001b[0m\u001b[1;3;38;5;200mThought: My final answer is the result of adding 20 and 8, which is indeed 28. I can answer without using any more tools.\n",
      "Answer: The calculation step by step is 2*4 = 8, then 20 + 8 = 28. The answer is 28.\n",
      "\u001b[0m"
     ]
    }
   ],
   "source": [
    "response = agent.chat(\"What is 20+(2*4)? Calculate step by step.\")"
   ]
  },
  {
   "cell_type": "code",
   "execution_count": 13,
   "metadata": {},
   "outputs": [
    {
     "name": "stdout",
     "output_type": "stream",
     "text": [
      "The calculation step by step is 2*4 = 8, then 20 + 8 = 28. The answer is 28.\n"
     ]
    }
   ],
   "source": [
    "print(response)"
   ]
  },
  {
   "cell_type": "code",
   "execution_count": 14,
   "metadata": {},
   "outputs": [
    {
     "name": "stdout",
     "output_type": "stream",
     "text": [
      "Prompt: agent_worker:system_prompt\n",
      "\n",
      "Value: You are designed to help with a variety of tasks, from answering questions to providing summaries to other types of analyses.\n",
      "\n",
      "## Tools\n",
      "\n",
      "You have access to a wide variety of tools. You are responsible for using the tools in any sequence you deem appropriate to complete the task at hand.\n",
      "This may require breaking the task into subtasks and using different tools to complete each subtask.\n",
      "\n",
      "You have access to the following tools:\n",
      "{tool_desc}\n",
      "\n",
      "\n",
      "## Output Format\n",
      "\n",
      "Please answer in the same language as the question and use the following format:\n",
      "\n",
      "```\n",
      "Thought: The current language of the user is: (user's language). I need to use a tool to help me answer the question.\n",
      "Action: tool name (one of {tool_names}) if using a tool.\n",
      "Action Input: the input to the tool, in a JSON format representing the kwargs (e.g. {{\"input\": \"hello world\", \"num_beams\": 5}})\n",
      "```\n",
      "\n",
      "Please ALWAYS start with a Thought.\n",
      "\n",
      "Please use a valid JSON format for the Action Input. Do NOT do this {{'input': 'hello world', 'num_beams': 5}}.\n",
      "\n",
      "If this format is used, the user will respond in the following format:\n",
      "\n",
      "```\n",
      "Observation: tool response\n",
      "```\n",
      "\n",
      "You should keep repeating the above format till you have enough information to answer the question without using any more tools. At that point, you MUST respond in the one of the following two formats:\n",
      "\n",
      "```\n",
      "Thought: I can answer without using any more tools. I'll use the user's language to answer\n",
      "Answer: [your answer here (In the same language as the user's question)]\n",
      "```\n",
      "\n",
      "```\n",
      "Thought: I cannot answer the question with the provided tools.\n",
      "Answer: [your answer here (In the same language as the user's question)]\n",
      "```\n",
      "\n",
      "## Current Conversation\n",
      "\n",
      "Below is the current conversation consisting of interleaving human and assistant messages.\n",
      "\n"
     ]
    }
   ],
   "source": [
    "prompt_dict = agent.get_prompts()\n",
    "for k, v in prompt_dict.items():\n",
    "    print(f\"Prompt: {k}\\n\\nValue: {v.template}\")"
   ]
  },
  {
   "cell_type": "code",
   "execution_count": null,
   "metadata": {},
   "outputs": [],
   "source": []
  }
 ],
 "metadata": {
  "kernelspec": {
   "display_name": "llamaindex_env",
   "language": "python",
   "name": "python3"
  },
  "language_info": {
   "codemirror_mode": {
    "name": "ipython",
    "version": 3
   },
   "file_extension": ".py",
   "mimetype": "text/x-python",
   "name": "python",
   "nbconvert_exporter": "python",
   "pygments_lexer": "ipython3",
   "version": "3.1.undefined"
  }
 },
 "nbformat": 4,
 "nbformat_minor": 2
}
