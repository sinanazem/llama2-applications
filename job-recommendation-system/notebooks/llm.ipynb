{
 "cells": [
  {
   "cell_type": "code",
   "execution_count": 36,
   "metadata": {},
   "outputs": [],
   "source": [
    "# pip install pymupdf4llm"
   ]
  },
  {
   "cell_type": "code",
   "execution_count": 55,
   "metadata": {},
   "outputs": [
    {
     "data": {
      "text/plain": [
       "True"
      ]
     },
     "execution_count": 55,
     "metadata": {},
     "output_type": "execute_result"
    }
   ],
   "source": [
    "import numpy as np\n",
    "import openai\n",
    "import psycopg2\n",
    "import pymupdf4llm\n",
    "\n",
    "\n",
    "from pgvector.psycopg2 import register_vector\n",
    "from psycopg2.extras import execute_values\n",
    "from loguru import logger\n",
    "from jobspy import scrape_jobs\n",
    "\n",
    "from dotenv import load_dotenv\n",
    "load_dotenv()"
   ]
  },
  {
   "cell_type": "markdown",
   "metadata": {},
   "source": [
    "## Read Resume Data"
   ]
  },
  {
   "cell_type": "code",
   "execution_count": 56,
   "metadata": {},
   "outputs": [],
   "source": [
    "file_path = \"/mnt/c/Users/user/OneDrive/Desktop/github-projects/reflex-recommendation-jobs/notebooks/matinsajadi.pdf\""
   ]
  },
  {
   "cell_type": "code",
   "execution_count": 57,
   "metadata": {},
   "outputs": [
    {
     "name": "stdout",
     "output_type": "stream",
     "text": [
      "Processing /mnt/c/Users/user/OneDrive/Desktop/github-projects/reflex-recommendation-jobs/notebooks/matinsajadi.pdf...\n",
      "[                                        ] (0/2===================[====================                    ] (1/2===================[========================================] (2/2]\n"
     ]
    }
   ],
   "source": [
    "md_text = pymupdf4llm.to_markdown(file_path)"
   ]
  },
  {
   "cell_type": "markdown",
   "metadata": {},
   "source": [
    "### Connect To Postgres And retrive top 3 similar jobs"
   ]
  },
  {
   "cell_type": "code",
   "execution_count": 58,
   "metadata": {},
   "outputs": [],
   "source": [
    "connection = psycopg2.connect(\n",
    "    dbname=\"postgres\",\n",
    "    user=\"postgres\",\n",
    "    password=\"mypass\",\n",
    "    host=\"localhost\",\n",
    "    port=\"5432\"\n",
    ")\n"
   ]
  },
  {
   "cell_type": "code",
   "execution_count": 59,
   "metadata": {},
   "outputs": [],
   "source": [
    "# Helper function: get embeddings for a text\n",
    "def get_embeddings(text):\n",
    "    response = openai.Embedding.create(\n",
    "        model=\"text-embedding-ada-002\",\n",
    "        input = text.replace(\"\\n\",\" \")\n",
    "    )\n",
    "    embedding = response['data'][0]['embedding']\n",
    "    return embedding"
   ]
  },
  {
   "cell_type": "code",
   "execution_count": 60,
   "metadata": {},
   "outputs": [],
   "source": [
    "#Helper function: Get top 3 most similar documents from the database\n",
    "def get_top3_similar_docs(query, conn):\n",
    "    query_embedding = get_embeddings(query)\n",
    "    embedding_array = np.array(query_embedding)\n",
    "    # Register pgvector extension\n",
    "    register_vector(conn)\n",
    "    cur = conn.cursor()\n",
    "    # Get the top 3 most similar documents using the KNN <=> operator\n",
    "    cur.execute(\"SELECT * FROM embeddings ORDER BY embedding <=> %s LIMIT 3\", (embedding_array,))\n",
    "    top3_docs = cur.fetchall()\n",
    "    return top3_docs"
   ]
  },
  {
   "cell_type": "code",
   "execution_count": 61,
   "metadata": {},
   "outputs": [],
   "source": [
    "query = f\"{md_text}\""
   ]
  },
  {
   "cell_type": "code",
   "execution_count": 62,
   "metadata": {},
   "outputs": [],
   "source": [
    "connection.commit()"
   ]
  },
  {
   "cell_type": "code",
   "execution_count": 63,
   "metadata": {},
   "outputs": [
    {
     "data": {
      "text/plain": [
       "[(39,\n",
       "  'indeed',\n",
       "  'https://www.indeed.com/viewjob?jk=b3cd84e3ea273500',\n",
       "  'Software Developer 1',\n",
       "  'Stanford University',\n",
       "  'Stanford, CA, US',\n",
       "  '2024-11-08',\n",
       "  'yearly',\n",
       "  107423.0,\n",
       "  133600.0,\n",
       "  'USD',\n",
       "  'false',\n",
       "  \"The Dubra Lab at Stanford University is seeking a highly motivated software developer to create an automated ophthalmic image processing and analysis pipeline, as well as custom novel retinal imaging instrumentation. The resulting software and hardware will be deployed across premier academic centers in the US and Europe to advance our understanding, diagnosing and management of ocular, neurodegenerative and systemic diseases and conditions. This will require the implementation and optimization of novel and sophisticated image algorithms in C\\\\+\\\\+, Python, LabView, OpenGL and CUDA. The candidate must have a bachelor's degree in Computer Science or Computer engineering. Expertise in designing, developing, testing, and deploying C\\\\+\\\\+ applications using Microsoft Visual Studio is required. Familiarity with the following is highly desirable: Microsoft Team Foundation Server (now Azure DevOps Server), GitHub, Python, SWIG and CUDA. Experience programming hardware such as cameras, frame grabbers, motors, etc. is desirable but not required. The applicant must be experienced with CPU multi\\\\-threading and GPU parallel processing programming, as well as profiling and performance optimization.\\n\\n\\n\\nIf appointed, the applicant would collaborate closely and be mentored by colleagues with expertise in firmware, middleware, business logic, user interfaces and databases. Exposure to such a diverse set of technical challenges is an opportunity for acquiring and developing new skills, at the cutting edge of almost all the technologies used in the lab, and thus, provide a strong foundation for a career in R\\\\&D. Although not required, the applicant would be able to work hands on with optical instrumentation and develop practical experimental skills.\\n\\n\\n\\nThe candidate would be part of a highly collaborative and welcoming multidisciplinary team with optical designers, computer engineers, vision scientists, students and staff of various backgrounds as well as physicians. If desired, the applicant would have opportunities to present their contributions at conferences and submit for publication in peer\\\\-reviewed scientific journals.\\n\\n\\n\\nDuties include:\\n\\n\\n* Assess user needs and requirements.\\n* Design and develop applications that may involve sophisticated data manipulation.\\n* Maintain and update existing programs.\\n* Troubleshoot and solve technical problems.\\n* Create programs to meet reporting and analysis needs.\\n* Design and implement user and operations training programs.\\n* Document changes in software for end users.\\n* Follow team software development methodology.\\n* Serve as technical resource with respect to applications.\\n\\n\\n* *\\\\- Other duties may also be assigned*\\n\\n  \\n\\n*\\\\*\\\\*The job duties listed are typical examples of work performed by positions in this job classification and are not designed to contain or be interpreted as a comprehensive inventory for all duties, tasks, and responsibilities. Specific duties and responsibilities may vary depending on department or program needs without changing the general nature and scope of the job or level of responsibility. Employees may also perform other duties as assigned.*\\n**EDUCATION \\\\& EXPERIENCE (REQUIRED):**\\n\\n\\n\\nBachelor's degree and three years of relevant experience or a combination of education and relevant experience.\\n\\n\\n**KNOWLEDGE, SKILLS AND ABILITIES (REQUIRED):**  \\n\\n* Working knowledge of latest software and design standards.\\n* Ability to define and solve logical problems for technical applications.\\n* Knowledge of and ability to select, adapt, and effectively use a variety of programming methods.\\n* Ability to recognize and recommend needed changes in user and/or operations procedures.\\n* Basic knowledge of software engineering principles.\\n* Strong knowledge of at least one programming language.\\n\\n**CERTIFICATIONS \\\\& LICENSES:**\\n\\n\\n\\nNone\\n\\n  \\n\\n**PHYSICAL REQUIREMENTS\\\\*:**\\n\\n\\n* Constantly perform desk\\\\-based computer tasks.\\n* Frequently sit, grasp lightly/fine manipulation.\\n* Occasionally stand/walk, writing by hand.\\n* Rarely use a telephone, lift/carry/push/pull objects that weigh up to 10 pounds\\n\\n\\n* \\\\- Consistent with its obligations under the law, the University will provide reasonable accommodation to any employee with a disability who requires accommodation to perform the essential functions of his or her job.\\n\\n *The expected pay range for this position is $107,423 to $133,600 annually.*\\n\\n\\n*Stanford University provides pay ranges representing its good faith estimate of what the university reasonably expects to pay for a position. The pay offered to a selected candidate will be determined based on factors such as (but not limited to) the scope and responsibilities of the position, the qualifications of the selected candidate, departmental budget availability, internal equity, geographic location and external market pay for comparable jobs.*\\n\\n\\n*At Stanford University, base pay represents only one aspect of the comprehensive rewards package. The Cardinal at Work website (**https://cardinalatwork.stanford.edu/benefits\\\\-rewards**) provides detailed information on Stanford’s extensive range of benefits and rewards offered to employees. Specifics about the rewards package for this position may be discussed during the hiring process.*\\n\\n\\n*Consistent with its obligations under the law, the University will provide reasonable accommodations to applicants and employees with disabilities. Applicants requiring a reasonable accommodation for any part of the application or hiring process should contact Stanford University Human Resources by submitting a* *contact form**.*\\n\\n\\n*Stanford is an equal employment opportunity and affirmative action employer. All qualified applicants will receive consideration for employment without regard to race, color, religion, sex, sexual orientation, gender identity, national origin, disability, protected veteran status, or any other characteristic protected by law.*\",\n",
       "  'https://www.indeed.com/cmp/Stanford-University',\n",
       "  'https://d2q79iu7y748jz.cloudfront.net/s/_squarelogo/256x256/79f50725ad1d04673d872266986883c8',\n",
       "  array([-0.01159373, -0.00759372, -0.00825222, ..., -0.0241542 ,\n",
       "         -0.01836784, -0.00757271], dtype=float32)),\n",
       " (25,\n",
       "  'indeed',\n",
       "  'https://www.indeed.com/viewjob?jk=d0b9841513fbdccf',\n",
       "  'Senior Software Engineer - ML Data Analytics (On-site)',\n",
       "  'NaN',\n",
       "  'Redwood City, CA, US',\n",
       "  '2024-11-10',\n",
       "  'yearly',\n",
       "  133173.0,\n",
       "  168627.0,\n",
       "  'USD',\n",
       "  'false',\n",
       "  \"**Company Overview:**\\nDyna Robotics is at the forefront of revolutionizing robotic manipulation with cutting\\\\-edge foundation models. Our mission is to empower businesses by automating repetitive, stationary tasks with affordable, intelligent robotic arms. Leveraging the latest advancements in foundation models, we're driving the future of general\\\\-purpose robotics—one manipulation skill at a time.\\nDyna Robotics was founded by industry leaders who previously achieved a $350 million exit in grocery deep tech as well as top robotics researchers from DeepMind and Nvidia. Our team blends world\\\\-class research, engineering, and product innovation to drive the future of robotic manipulation. With sizable funding already in place, we're positioned to redefine the landscape of robotic automation. Join us to shape the next frontier of AI\\\\-driven robotics. **Position Overview:**\\nWe are seeking a **Senior Data Engineer** to join our onsite team in Redwood City, California. In this hands\\\\-on role, you will design, implement, and maintain systems that process video and sensor data to extract meaningful insights. This includes developing algorithms for automatic labeling and detecting data quality issues in order to improve our machine learning models. Strong mathematical skills—particularly in algorithms and geometric calculations for extracting signals from video and 3D sensor data—are essential.\\nYou will collaborate closely with machine learning engineers and product leaders, contributing to backend systems, APIs, and machine learning infrastructure as needed. If you thrive in a fast\\\\-paced startup environment and are excited to solve challenging engineering problems with cutting\\\\-edge technologies, we'd love to hear from you! **Key Duties*** Develop and implement algorithms to process and analyze video and sensor data\\n* Utilize geometric and mathematical calculations to extract signals from video and 3D sensor data\\n* Build, test, and maintain robust data pipelines and workflows\\n* Collaborate with engineers, researchers, and product team members to identify data needs and develop solutions\\n* Improve machine learning models by providing high\\\\-quality processed data\\n* Contribute to other backend systems, APIs, and machine learning infrastructure as needed\\n* Leverage cloud computing platforms (AWS or GCP) for scalable processing and optimization\\n\\n **Qualifications*** Strong mathematical skills, including experience with algorithms and geometric calculations\\n* Proficiency in Python and experience with libraries such as NumPy and Pandas\\n* Experience with cloud computing platforms (AWS or GCP) and managing compute resources.\\n* Strong problem\\\\-solving skills and ability to work independently\\n* Effective communicator with a team\\\\-oriented approach\\n* Bachelor’s degree or higher in Computer Science or a related field\\n* At least 5 years of professional experience in the software industry\\n* Experience with relational and NoSQL databases such as PostgreSQL and Redis\\n\\n **Preferred Qualifications*** Background in working with sensor data from autonomous vehicles (AVs), robotics, or computer vision projects\\n* Familiarity with machine learning concepts and data preprocessing for ML models\\n* Experience building data analysis and visualization tools\\n* Familiarity with big data tools such as Kafka and Apache Spark\\n\\n **Benefits*** Competitive salary and equity in a seed stage venture\\\\-backed startup\\n* Comprehensive health, dental, and vision insurance\\n* Ample opportunities for professional growth and development through training, mentorship, and challenging projects\",\n",
       "  'NaN',\n",
       "  'NaN',\n",
       "  array([-0.01277473, -0.0205978 ,  0.00598837, ..., -0.01132197,\n",
       "         -0.04381466,  0.01570071], dtype=float32)),\n",
       " (14,\n",
       "  'glassdoor',\n",
       "  'https://www.glassdoor.com/job-listing/j?jl=1009521156145',\n",
       "  'Staff Software Engineer, YouTube Trust and Safety Data',\n",
       "  'YouTube',\n",
       "  'San Bruno, CA',\n",
       "  '2024-11-09',\n",
       "  'yearly',\n",
       "  189000.0,\n",
       "  284000.0,\n",
       "  'USD',\n",
       "  'false',\n",
       "  \"**Note:** By applying to this position you will have an opportunity to share your preferred working location from the following: Mountain View, CA, USA; San Bruno, CA, USA.\\n  \\n  \\n\\n**Minimum qualifications:**  \\n\\n* Bachelor's degree or equivalent practical experience.\\n* 8 years of experience in software development, and with data structures/algorithms.\\n* 5 years of experience testing, and launching software products, and 3 years of experience with software design and architecture.\\n* 4 years of coding experience in one or more of the following programming languages: Python, Go, Java, C\\\\+\\\\+.\\n* 2 years of experience working with big data and analytics.\\n\\n\\n**Preferred qualifications:**  \\n\\n* Master’s degree or PhD in Engineering, Computer Science, or a related technical field.\\n* 3 years of experience in a technical leadership role leading project teams and setting technical direction.\\n* 3 years of experience working in a complex, matrixed organization involving cross\\\\-functional, or cross\\\\-business projects.\\n* Experience with solving complex system issues with technical innovation.\\n* Ability to quickly learn/pick up new concepts (e.g., Search Infrastructure, Generative AI, LLM space).\\n\\n\\nAbout the job\\n  \\n  \\n\\nThe YouTube Data team derives insights and metrics at planetary scale. We operate one of the world's largest data warehouses. The data team builds some of the most cutting edge, scalable, and cost efficient data infrastructures and tools on the planet to support this massive scale data warehouse and its consumers. These infrastructures are tailored to support the scale of experimentation and analytics at the extraordinary levels of reliability and data freshness that YouTube needs. YouTube has been growing fast, and as such, it presents many interesting engineering challenges.\\n  \\nThe mission of Trust Safety Data engineering is to provide data to help make YouTube safer and more trustworthy for its users and creators. We provide insightful data and metrics to the Trust Safety organization for them to gain insights into how well they are doing. Some of our metrics are even published to the world at large, in transparency reports such as YouTube Community Guidelines. Teams within YouTube use our data to evaluate Trust Safety’s impact on various parts of YouTube’s business, including teams that work on improving our machine classifiers.\\n  \\nOn this team, you will develop sophisticated applications, analyzing data and sharing your findings with product managers, data scientists, customer support teams, and other engineers cross\\\\-organizationally to improve YouTube's abuse\\\\-fighting capabilities. Your work maintains the reputation of Google's products and makes the internet a safer place for all people to use.\\n  \\nAt YouTube, we believe that everyone deserves to have a voice, and that the world is a better place when we listen, share, and build community through our stories. We work together to give everyone the power to share their story, explore what they love, and connect with one another in the process. Working at the intersection of cutting\\\\-edge technology and boundless creativity, we move at the speed of culture with a shared goal to show people the world. We explore new ideas, solve real problems, and have fun — and we do it all together.\\n  \\nThe US base salary range for this full\\\\-time position is $189,000\\\\-$284,000 \\\\+ bonus \\\\+ equity \\\\+ benefits. Our salary ranges are determined by role, level, and location. The range displayed on each job posting reflects the minimum and maximum target for new hire salaries for the position across all US locations. Within the range, individual pay is determined by work location and additional factors, including job\\\\-related skills, experience, and relevant education or training. Your recruiter can share more about the specific salary range for your preferred location during the hiring process.Please note that the compensation details listed in US role postings reflect the base salary only, and do not include bonus, equity, or benefits. Learn more aboutbenefits at Google.\\n  \\n  \\n\\nResponsibilities\\n  \\n  \\n\\n* Work with many groups across YouTube: Engineers, Product Managers, Data Scientists, Business Analysts and Product Operations to deliver insightful metrics at world\\\\-class scale.\\n* Plan OKRs and align them with the bigger team strategy.\\n* Provide technical guidance and mentorship to the team members.\\n\\n\\nGoogle is proud to be an equal opportunity workplace and is an affirmative action employer. We are committed to equal employment opportunity regardless of race, color, ancestry, religion, sex, national origin, sexual orientation, age, citizenship, marital status, disability, gender identity or Veteran status. We also consider qualified applicants regardless of criminal histories, consistent with legal requirements. See alsoGoogle's EEO Policy andEEO is the Law. If you have a disability or special need that requires accommodation, please let us know by completing ourAccommodations for Applicants form.\",\n",
       "  'https://www.glassdoor.com/Overview/W-EI_IE40803.htm',\n",
       "  'https://media.glassdoor.com/sql/40803/youtube-squarelogo.png',\n",
       "  array([ 0.00076268, -0.02447318,  0.00804292, ..., -0.0067227 ,\n",
       "         -0.04030241, -0.0057435 ], dtype=float32))]"
      ]
     },
     "execution_count": 63,
     "metadata": {},
     "output_type": "execute_result"
    }
   ],
   "source": [
    "get_top3_similar_docs(query=query, conn=connection)"
   ]
  },
  {
   "cell_type": "code",
   "execution_count": null,
   "metadata": {},
   "outputs": [],
   "source": []
  }
 ],
 "metadata": {
  "kernelspec": {
   "display_name": "reflex_jobs",
   "language": "python",
   "name": "python3"
  },
  "language_info": {
   "codemirror_mode": {
    "name": "ipython",
    "version": 3
   },
   "file_extension": ".py",
   "mimetype": "text/x-python",
   "name": "python",
   "nbconvert_exporter": "python",
   "pygments_lexer": "ipython3",
   "version": "3.11.10"
  }
 },
 "nbformat": 4,
 "nbformat_minor": 2
}
